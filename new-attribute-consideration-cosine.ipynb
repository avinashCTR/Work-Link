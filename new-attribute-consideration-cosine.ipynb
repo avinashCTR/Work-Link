{
 "cells": [
  {
   "cell_type": "code",
   "execution_count": 1,
   "id": "374ef376-235e-47b1-a389-2b20f5a3079e",
   "metadata": {},
   "outputs": [],
   "source": [
    "%%init_spark\n",
    "launcher.conf.spark.app.name = \"avinash\"\n",
    "launcher.conf.spark.local.dir = \"/data/tmp/spark\"\n",
    "launcher.conf.spark.driver.memory = \"40g\"\n",
    "launcher.conf.spark.executor.memory = \"50g\"\n",
    "launcher.conf.spark.executors = \"21\"\n",
    "launcher.conf.spark.executor.cores = \"21\"\n",
    "launcher.conf.spark.sql.shuffle.partitions = 210\n",
    "launcher.conf.spark.sql.shuffle.minPartitions = 20\n",
    "launcher.conf.spark.ui.showConsoleProgress = \"true\"\n",
    "launcher.conf.spark.yarn.keytab = \"/home/jioapp/aditya/jiomart_cluster/couture.keytab\"\n",
    "launcher.conf.spark.yarn.principal = \"couture@COUTURE.AI\"\n",
    "launcher.conf.spark.driver.extraJavaOptions = \"-Djava.security.krb5.conf=/home/jioapp/aditya/jiomart_cluster/krb5.conf\"\n",
    "launcher.conf.spark.executor.extraJavaOptions = \"-Djava.security.krb5.conf=/home/jioapp/aditya/jiomart_cluster/krb5.conf\""
   ]
  },
  {
   "cell_type": "code",
   "execution_count": 2,
   "id": "fe233b73-3988-4fbb-99c3-1f42bbdad8ba",
   "metadata": {},
   "outputs": [
    {
     "data": {
      "text/plain": [
       "Intitializing Scala interpreter ..."
      ]
     },
     "metadata": {},
     "output_type": "display_data"
    },
    {
     "data": {
      "text/plain": [
       "Spark Web UI available at http://10.166.181.219:4043\n",
       "SparkContext available as 'sc' (version = 3.3.0, master = local[*], app id = local-1750414972267)\n",
       "SparkSession available as 'spark'\n"
      ]
     },
     "metadata": {},
     "output_type": "display_data"
    },
    {
     "data": {
      "text/plain": [
       "import org.apache.spark.sql.expressions.Window\n",
       "import org.apache.spark.sql.functions._\n",
       "import org.apache.spark.sql.types._\n"
      ]
     },
     "execution_count": 2,
     "metadata": {},
     "output_type": "execute_result"
    }
   ],
   "source": [
    "import org.apache.spark.sql.expressions.Window\n",
    "import org.apache.spark.sql.functions._\n",
    "import org.apache.spark.sql.types._"
   ]
  },
  {
   "cell_type": "code",
   "execution_count": 17,
   "id": "72489280-6a08-4ab3-9f80-ef516229bc85",
   "metadata": {},
   "outputs": [
    {
     "data": {
      "text/plain": [
       "readP: (path: String)org.apache.spark.sql.DataFrame\n"
      ]
     },
     "execution_count": 17,
     "metadata": {},
     "output_type": "execute_result"
    }
   ],
   "source": [
    "def readP(path:String)={\n",
    "    var df = spark.read.parquet(raw\"hdfs://10.144.96.170:8020/$path\")\n",
    "    df\n",
    "}"
   ]
  },
  {
   "cell_type": "code",
   "execution_count": 18,
   "id": "3ce1dbee-8c5b-456d-a463-c3a5e71dfb76",
   "metadata": {},
   "outputs": [
    {
     "data": {
      "text/plain": [
       "categoryAffinityDF: org.apache.spark.sql.DataFrame = [user_id: string, avg_bag_value: double ... 18 more fields]\n"
      ]
     },
     "execution_count": 18,
     "metadata": {},
     "output_type": "execute_result"
    }
   ],
   "source": [
    "var categoryAffinityDF=readP(\"/data1/archive/avinash/RECO/userFeaturesFinal\")"
   ]
  },
  {
   "cell_type": "code",
   "execution_count": 19,
   "id": "4f44d8cc-ab59-4752-bbaa-f5f072dceaca",
   "metadata": {},
   "outputs": [
    {
     "data": {
      "text/plain": [
       "explodeAffinity: org.apache.spark.sql.DataFrame = [user_id: string, avg_bag_value: double ... 21 more fields]\n"
      ]
     },
     "execution_count": 19,
     "metadata": {},
     "output_type": "execute_result"
    }
   ],
   "source": [
    "var explodeAffinity = categoryAffinityDF\n",
    ".withColumn(\"exploded_affinity\",explode(col(\"attribute_affinity_brandname\")))\n",
    ".withColumn(\"brandname\",col(\"exploded_affinity.attribute\"))\n",
    ".withColumn(\"score\",col(\"exploded_affinity.affinity_score\"))"
   ]
  },
  {
   "cell_type": "code",
   "execution_count": 50,
   "id": "d45a885d-567f-472a-8511-92d96f5691c9",
   "metadata": {},
   "outputs": [
    {
     "data": {
      "text/plain": [
       "finalUserFeatures: org.apache.spark.sql.DataFrame = [user_id: string, avg_bag_value: double ... 16 more fields]\n"
      ]
     },
     "execution_count": 50,
     "metadata": {},
     "output_type": "execute_result"
    }
   ],
   "source": [
    "var finalUserFeatures = explodeAffinity\n",
    ".drop(\"l1codes_purchases\",\"l2codes_purchases\",\"bricks_purchased\",\"attribute_affinity_brandname\",\"exploded_affinity\")"
   ]
  },
  {
   "cell_type": "code",
   "execution_count": 51,
   "id": "110c578f-00c1-4db2-8e3c-d5322d50fb37",
   "metadata": {},
   "outputs": [
    {
     "name": "stdout",
     "output_type": "stream",
     "text": [
      "root\n",
      " |-- user_id: string (nullable = true)\n",
      " |-- avg_bag_value: double (nullable = true)\n",
      " |-- avg_cart_to_checkout_hours: double (nullable = true)\n",
      " |-- avg_cart_to_checkout_days: double (nullable = true)\n",
      " |-- avg_order_interval_secs: double (nullable = true)\n",
      " |-- avg_order_interval_days: double (nullable = true)\n",
      " |-- avg_discount: double (nullable = true)\n",
      " |-- lifetime_order_value: double (nullable = true)\n",
      " |-- active_weeks: long (nullable = true)\n",
      " |-- total_orders: long (nullable = true)\n",
      " |-- avg_orders_per_week: double (nullable = true)\n",
      " |-- num_l1codes_purchased: integer (nullable = true)\n",
      " |-- num_l2codes_purchased: integer (nullable = true)\n",
      " |-- num_bricks_purchased: integer (nullable = true)\n",
      " |-- total_no_of_returns: long (nullable = true)\n",
      " |-- total_value_of_return: double (nullable = true)\n",
      " |-- brandname: string (nullable = true)\n",
      " |-- score: double (nullable = true)\n",
      "\n"
     ]
    }
   ],
   "source": [
    "finalUserFeatures.printSchema"
   ]
  },
  {
   "cell_type": "code",
   "execution_count": 59,
   "id": "c9b2b52b-5b30-4a30-9bf2-596345bd55b5",
   "metadata": {},
   "outputs": [
    {
     "data": {
      "text/plain": [
       "df: org.apache.spark.sql.DataFrame = [user_id: string, avg_bag_value: double ... 16 more fields]\n"
      ]
     },
     "execution_count": 59,
     "metadata": {},
     "output_type": "execute_result"
    }
   ],
   "source": [
    "var df = finalUserFeatures.na.drop()"
   ]
  },
  {
   "cell_type": "code",
   "execution_count": 53,
   "id": "aedb7e70-04a3-432c-8a28-61f0647abf8e",
   "metadata": {},
   "outputs": [
    {
     "data": {
      "text/plain": [
       "res14: Long = 93266106\n"
      ]
     },
     "execution_count": 53,
     "metadata": {},
     "output_type": "execute_result"
    }
   ],
   "source": [
    "finalUserFeatures\n",
    ".count()"
   ]
  },
  {
   "cell_type": "code",
   "execution_count": 54,
   "id": "a580414f-ba94-492e-a07d-2967f5f7cf29",
   "metadata": {},
   "outputs": [
    {
     "data": {
      "text/plain": [
       "res15: Long = 1480809\n"
      ]
     },
     "execution_count": 54,
     "metadata": {},
     "output_type": "execute_result"
    }
   ],
   "source": [
    "finalUserFeatures\n",
    ".na.drop()\n",
    ".count()"
   ]
  },
  {
   "cell_type": "code",
   "execution_count": 60,
   "id": "eda699b6-5759-4e9d-a6f3-4622859d9fcd",
   "metadata": {},
   "outputs": [
    {
     "data": {
      "text/plain": [
       "import org.apache.spark.sql.{DataFrame, SparkSession}\n",
       "import org.apache.spark.sql.functions._\n",
       "import org.apache.spark.sql.types._\n",
       "normalize_column: (df: org.apache.spark.sql.DataFrame, column: String)org.apache.spark.sql.DataFrame\n",
       "normalize_all_columns: (df: org.apache.spark.sql.DataFrame, excludeCols: Seq[String])org.apache.spark.sql.DataFrame\n"
      ]
     },
     "execution_count": 60,
     "metadata": {},
     "output_type": "execute_result"
    }
   ],
   "source": [
    "import org.apache.spark.sql.{DataFrame, SparkSession}\n",
    "import org.apache.spark.sql.functions._\n",
    "import org.apache.spark.sql.types._\n",
    "\n",
    "def normalize_column(df: DataFrame, column: String): DataFrame = {\n",
    "  val stats = df.agg(min(col(column)).as(\"min\"), max(col(column)).as(\"max\")).first()\n",
    "  val minVal = stats.getAs[Any](\"min\").toString.toDouble\n",
    "  val maxVal = stats.getAs[Any](\"max\").toString.toDouble\n",
    "\n",
    "  if (minVal == maxVal) {\n",
    "    df.withColumn(column, lit(0.0))  // All values are same\n",
    "  } else {\n",
    "    df.withColumn(column, (col(column).cast(\"double\") - minVal) / (maxVal - minVal))\n",
    "  }\n",
    "}\n",
    "\n",
    "def normalize_all_columns(df: DataFrame, excludeCols: Seq[String] = Seq(\"user_id\", \"brandname\", \"score\")): DataFrame = {\n",
    "  val numericCols = df.schema.fields\n",
    "    .filter(f => f.dataType.isInstanceOf[NumericType] && !excludeCols.contains(f.name))\n",
    "    .map(_.name)\n",
    "\n",
    "  numericCols.foldLeft(df)((accDF, colName) => normalize_column(accDF, colName))\n",
    "}\n"
   ]
  },
  {
   "cell_type": "code",
   "execution_count": 61,
   "id": "95f46753-8b27-4bfc-b307-365b22cb3975",
   "metadata": {},
   "outputs": [
    {
     "data": {
      "text/plain": [
       "df: org.apache.spark.sql.DataFrame = [user_id: string, avg_bag_value: double ... 16 more fields]\n"
      ]
     },
     "execution_count": 61,
     "metadata": {},
     "output_type": "execute_result"
    }
   ],
   "source": [
    "df = normalize_all_columns(df)"
   ]
  },
  {
   "cell_type": "code",
   "execution_count": 66,
   "id": "f52b6e48-43bd-437a-ab45-bae233f3e3c4",
   "metadata": {},
   "outputs": [
    {
     "name": "stdout",
     "output_type": "stream",
     "text": [
      "root\n",
      " |-- user_id: string (nullable = true)\n",
      " |-- avg_bag_value: double (nullable = true)\n",
      " |-- avg_cart_to_checkout_hours: double (nullable = true)\n",
      " |-- avg_cart_to_checkout_days: double (nullable = true)\n",
      " |-- avg_order_interval_secs: double (nullable = true)\n",
      " |-- avg_order_interval_days: double (nullable = true)\n",
      " |-- avg_discount: double (nullable = true)\n",
      " |-- lifetime_order_value: double (nullable = true)\n",
      " |-- active_weeks: double (nullable = true)\n",
      " |-- total_orders: double (nullable = true)\n",
      " |-- avg_orders_per_week: double (nullable = true)\n",
      " |-- num_l1codes_purchased: double (nullable = true)\n",
      " |-- num_l2codes_purchased: double (nullable = true)\n",
      " |-- num_bricks_purchased: double (nullable = true)\n",
      " |-- total_no_of_returns: double (nullable = true)\n",
      " |-- total_value_of_return: double (nullable = true)\n",
      " |-- brandname: string (nullable = true)\n",
      " |-- score: double (nullable = true)\n",
      "\n"
     ]
    }
   ],
   "source": [
    "df.printSchema"
   ]
  },
  {
   "cell_type": "code",
   "execution_count": 62,
   "id": "d559d2c6-6fce-4154-907d-f21885458a0e",
   "metadata": {},
   "outputs": [
    {
     "name": "stdout",
     "output_type": "stream",
     "text": [
      "+--------------+--------------------+--------------------------+-------------------------+-----------------------+-----------------------+-----------------+--------------------+------------+------------+--------------------+---------------------+---------------------+--------------------+--------------------+---------------------+--------------------+-----+\n",
      "|       user_id|       avg_bag_value|avg_cart_to_checkout_hours|avg_cart_to_checkout_days|avg_order_interval_secs|avg_order_interval_days|     avg_discount|lifetime_order_value|active_weeks|total_orders| avg_orders_per_week|num_l1codes_purchased|num_l2codes_purchased|num_bricks_purchased| total_no_of_returns|total_value_of_return|           brandname|score|\n",
      "+--------------+--------------------+--------------------------+-------------------------+-----------------------+-----------------------+-----------------+--------------------+------------+------------+--------------------+---------------------+---------------------+--------------------+--------------------+---------------------+--------------------+-----+\n",
      "|10103222861828|0.013656846078679603|       0.45781504395962225|              0.457421875|   0.059007618007769005|    0.05873925501432664|0.953926348009734|0.001600737460370...|         0.0|         0.0|0.011428571428571429|   0.1111111111111111|  0.20689655172413793| 0.13714285714285715|0.001196172248803...| 7.570775618539791E-5|                 max| 5.93|\n",
      "|10103222861828|0.013656846078679603|       0.45781504395962225|              0.457421875|   0.059007618007769005|    0.05873925501432664|0.953926348009734|0.001600737460370...|         0.0|         0.0|0.011428571428571429|   0.1111111111111111|  0.20689655172413793| 0.13714285714285715|0.001196172248803...| 7.570775618539791E-5|               styli| 0.74|\n",
      "|10103222861828|0.013656846078679603|       0.45781504395962225|              0.457421875|   0.059007618007769005|    0.05873925501432664|0.953926348009734|0.001600737460370...|         0.0|         0.0|0.011428571428571429|   0.1111111111111111|  0.20689655172413793| 0.13714285714285715|0.001196172248803...| 7.570775618539791E-5|            maheshvi| 8.15|\n",
      "|10103222861828|0.013656846078679603|       0.45781504395962225|              0.457421875|   0.059007618007769005|    0.05873925501432664|0.953926348009734|0.001600737460370...|         0.0|         0.0|0.011428571428571429|   0.1111111111111111|  0.20689655172413793| 0.13714285714285715|0.001196172248803...| 7.570775618539791E-5|    fashion-comfortz| 0.74|\n",
      "|10103222861828|0.013656846078679603|       0.45781504395962225|              0.457421875|   0.059007618007769005|    0.05873925501432664|0.953926348009734|0.001600737460370...|         0.0|         0.0|0.011428571428571429|   0.1111111111111111|  0.20689655172413793| 0.13714285714285715|0.001196172248803...| 7.570775618539791E-5|raiyani-enterpris...| 0.74|\n",
      "|10103222861828|0.013656846078679603|       0.45781504395962225|              0.457421875|   0.059007618007769005|    0.05873925501432664|0.953926348009734|0.001600737460370...|         0.0|         0.0|0.011428571428571429|   0.1111111111111111|  0.20689655172413793| 0.13714285714285715|0.001196172248803...| 7.570775618539791E-5|       house-of-mira| 0.74|\n",
      "|10103222861828|0.013656846078679603|       0.45781504395962225|              0.457421875|   0.059007618007769005|    0.05873925501432664|0.953926348009734|0.001600737460370...|         0.0|         0.0|0.011428571428571429|   0.1111111111111111|  0.20689655172413793| 0.13714285714285715|0.001196172248803...| 7.570775618539791E-5|              fusion| 0.74|\n",
      "|10103222861828|0.013656846078679603|       0.45781504395962225|              0.457421875|   0.059007618007769005|    0.05873925501432664|0.953926348009734|0.001600737460370...|         0.0|         0.0|0.011428571428571429|   0.1111111111111111|  0.20689655172413793| 0.13714285714285715|0.001196172248803...| 7.570775618539791E-5|united-colors-of-...| 0.74|\n",
      "|10103222861828|0.013656846078679603|       0.45781504395962225|              0.457421875|   0.059007618007769005|    0.05873925501432664|0.953926348009734|0.001600737460370...|         0.0|         0.0|0.011428571428571429|   0.1111111111111111|  0.20689655172413793| 0.13714285714285715|0.001196172248803...| 7.570775618539791E-5|dnmx-for-trends-s...|  3.7|\n",
      "|10103222861828|0.013656846078679603|       0.45781504395962225|              0.457421875|   0.059007618007769005|    0.05873925501432664|0.953926348009734|0.001600737460370...|         0.0|         0.0|0.011428571428571429|   0.1111111111111111|  0.20689655172413793| 0.13714285714285715|0.001196172248803...| 7.570775618539791E-5|        fabflee-x-ag| 0.74|\n",
      "|10103222861828|0.013656846078679603|       0.45781504395962225|              0.457421875|   0.059007618007769005|    0.05873925501432664|0.953926348009734|0.001600737460370...|         0.0|         0.0|0.011428571428571429|   0.1111111111111111|  0.20689655172413793| 0.13714285714285715|0.001196172248803...| 7.570775618539791E-5|   fashion-and-youth| 0.74|\n",
      "|10103222861828|0.013656846078679603|       0.45781504395962225|              0.457421875|   0.059007618007769005|    0.05873925501432664|0.953926348009734|0.001600737460370...|         0.0|         0.0|0.011428571428571429|   0.1111111111111111|  0.20689655172413793| 0.13714285714285715|0.001196172248803...| 7.570775618539791E-5|               ketch|17.78|\n",
      "|10103222861828|0.013656846078679603|       0.45781504395962225|              0.457421875|   0.059007618007769005|    0.05873925501432664|0.953926348009734|0.001600737460370...|         0.0|         0.0|0.011428571428571429|   0.1111111111111111|  0.20689655172413793| 0.13714285714285715|0.001196172248803...| 7.570775618539791E-5|           clafoutis| 0.74|\n",
      "|10103222861828|0.013656846078679603|       0.45781504395962225|              0.457421875|   0.059007618007769005|    0.05873925501432664|0.953926348009734|0.001600737460370...|         0.0|         0.0|0.011428571428571429|   0.1111111111111111|  0.20689655172413793| 0.13714285714285715|0.001196172248803...| 7.570775618539791E-5| hi-attitude-comfort| 2.96|\n",
      "|10103222861828|0.013656846078679603|       0.45781504395962225|              0.457421875|   0.059007618007769005|    0.05873925501432664|0.953926348009734|0.001600737460370...|         0.0|         0.0|0.011428571428571429|   0.1111111111111111|  0.20689655172413793| 0.13714285714285715|0.001196172248803...| 7.570775618539791E-5|     mischief-monkey| 0.74|\n",
      "|10103222861828|0.013656846078679603|       0.45781504395962225|              0.457421875|   0.059007618007769005|    0.05873925501432664|0.953926348009734|0.001600737460370...|         0.0|         0.0|0.011428571428571429|   0.1111111111111111|  0.20689655172413793| 0.13714285714285715|0.001196172248803...| 7.570775618539791E-5|                 rio| 0.74|\n",
      "|10103222861828|0.013656846078679603|       0.45781504395962225|              0.457421875|   0.059007618007769005|    0.05873925501432664|0.953926348009734|0.001600737460370...|         0.0|         0.0|0.011428571428571429|   0.1111111111111111|  0.20689655172413793| 0.13714285714285715|0.001196172248803...| 7.570775618539791E-5|                dj-c| 0.74|\n",
      "|10103222861828|0.013656846078679603|       0.45781504395962225|              0.457421875|   0.059007618007769005|    0.05873925501432664|0.953926348009734|0.001600737460370...|         0.0|         0.0|0.011428571428571429|   0.1111111111111111|  0.20689655172413793| 0.13714285714285715|0.001196172248803...| 7.570775618539791E-5|                ajio| 1.48|\n",
      "|10103222861828|0.013656846078679603|       0.45781504395962225|              0.457421875|   0.059007618007769005|    0.05873925501432664|0.953926348009734|0.001600737460370...|         0.0|         0.0|0.011428571428571429|   0.1111111111111111|  0.20689655172413793| 0.13714285714285715|0.001196172248803...| 7.570775618539791E-5|         cover-story| 0.74|\n",
      "|10103222861828|0.013656846078679603|       0.45781504395962225|              0.457421875|   0.059007618007769005|    0.05873925501432664|0.953926348009734|0.001600737460370...|         0.0|         0.0|0.011428571428571429|   0.1111111111111111|  0.20689655172413793| 0.13714285714285715|0.001196172248803...| 7.570775618539791E-5|              styfun| 1.48|\n",
      "+--------------+--------------------+--------------------------+-------------------------+-----------------------+-----------------------+-----------------+--------------------+------------+------------+--------------------+---------------------+---------------------+--------------------+--------------------+---------------------+--------------------+-----+\n",
      "only showing top 20 rows\n",
      "\n"
     ]
    }
   ],
   "source": [
    "df.show()"
   ]
  },
  {
   "cell_type": "code",
   "execution_count": 65,
   "id": "baa11762-2467-42cd-8981-62eee55a22c6",
   "metadata": {},
   "outputs": [
    {
     "data": {
      "text/plain": [
       "import org.apache.spark.ml.linalg.{Vector, Vectors}\n",
       "import org.apache.spark.sql.{DataFrame, SparkSession}\n",
       "import org.apache.spark.sql.functions._\n",
       "cosineSim: org.apache.spark.sql.expressions.UserDefinedFunction = SparkUserDefinedFunction($Lambda$7303/2143819172@2934ff49,DoubleType,List(Some(class[value[0]: vector]), Some(class[value[0]: vector])),Some(class[value[0]: double]),None,false,true)\n"
      ]
     },
     "execution_count": 65,
     "metadata": {},
     "output_type": "execute_result"
    }
   ],
   "source": [
    "import org.apache.spark.ml.linalg.{Vector, Vectors}\n",
    "import org.apache.spark.sql.{DataFrame, SparkSession}\n",
    "import org.apache.spark.sql.functions._\n",
    "\n",
    "val cosineSim = udf { (v1: Vector, v2: Vector) =>\n",
    "  val dot = v1.toArray.zip(v2.toArray).map { case (a, b) => a * b }.sum\n",
    "  val norm1 = math.sqrt(v1.toArray.map(x => x * x).sum)\n",
    "  val norm2 = math.sqrt(v2.toArray.map(x => x * x).sum)\n",
    "  if (norm1 == 0.0 || norm2 == 0.0) 0.0 else dot / (norm1 * norm2)\n",
    "}"
   ]
  },
  {
   "cell_type": "code",
   "execution_count": 73,
   "id": "2286f044-0dbf-4dc2-9b32-65f5920f707b",
   "metadata": {},
   "outputs": [
    {
     "data": {
      "text/plain": [
       "import org.apache.spark.ml.feature.VectorAssembler\n",
       "import org.apache.spark.ml.linalg.Vector\n",
       "import org.apache.spark.sql.functions.typedLit\n",
       "getUserBrandScore: (spark: org.apache.spark.sql.SparkSession, df: org.apache.spark.sql.DataFrame, userId: String, brandName: String, topN: Int)Double\n"
      ]
     },
     "execution_count": 73,
     "metadata": {},
     "output_type": "execute_result"
    }
   ],
   "source": [
    "import org.apache.spark.ml.feature.VectorAssembler\n",
    "import org.apache.spark.ml.linalg.Vector\n",
    "import org.apache.spark.sql.functions.typedLit\n",
    "\n",
    "def getUserBrandScore(\n",
    "    spark: SparkSession,\n",
    "    df: DataFrame,\n",
    "    userId: String,\n",
    "    brandName: String,\n",
    "    topN: Int = 5\n",
    "): Double = {\n",
    "\n",
    "  import spark.implicits._\n",
    "\n",
    "  // List of feature columns (all double columns except user_id, brandname, score)\n",
    "  val featureCols = df.schema.fields\n",
    "    .filter(f => f.dataType.simpleString == \"double\" && !Seq(\"score\").contains(f.name))\n",
    "    .map(_.name)\n",
    "    .filterNot(name => name == \"brandname\" || name == \"user_id\")\n",
    "\n",
    "  // Assemble feature vector for each user (ignoring brandname and score)\n",
    "  val assembler = new VectorAssembler()\n",
    "    .setInputCols(featureCols)\n",
    "    .setOutputCol(\"features\")\n",
    "\n",
    "  val dfWithFeatures = assembler.transform(df)\n",
    "    .select(\"user_id\", \"brandname\", \"score\", \"features\")\n",
    "    .cache()\n",
    "\n",
    "  // 1. Check if score exists for user-brand pair\n",
    "  val existingScoreOpt = dfWithFeatures\n",
    "    .filter($\"user_id\" === userId && $\"brandname\" === brandName && $\"score\".isNotNull)\n",
    "    .select(\"score\")\n",
    "    .as[Double]\n",
    "    .collect()\n",
    "    .headOption\n",
    "\n",
    "  if (existingScoreOpt.isDefined) {\n",
    "    existingScoreOpt.get\n",
    "  } else {\n",
    "    // 2. Get feature vector of the input user (ignore brandname and score here, just pick first record)\n",
    "    val userFeatureOpt = dfWithFeatures\n",
    "      .filter($\"user_id\" === userId)\n",
    "      .select(\"features\")\n",
    "      .collect()\n",
    "      .headOption\n",
    "      .map(row => row.getAs[org.apache.spark.ml.linalg.Vector](\"features\"))\n",
    "\n",
    "    if (userFeatureOpt.isEmpty) {\n",
    "      // User features missing → cannot compute similarity → return 0\n",
    "      0.0\n",
    "    } else {\n",
    "      val userFeature = userFeatureOpt.get\n",
    "        \n",
    "      val userFeatureBroadcast = spark.sparkContext.broadcast(userFeature)\n",
    "\n",
    "      // 3. Compute cosine similarity of this user with all others (exclude self)\n",
    "      val similarities = dfWithFeatures\n",
    "        .filter($\"user_id\" =!= userId)\n",
    "        .withColumn(\"cosine_sim\", cosineSim(typedLit(userFeatureBroadcast.value), $\"features\"))\n",
    "        .select(\"user_id\", \"brandname\", \"score\", \"cosine_sim\")\n",
    "\n",
    "      // 4. Get top N similar users overall (regardless of brand)\n",
    "      val topSimilarUsers = similarities\n",
    "        .orderBy(desc(\"cosine_sim\"))\n",
    "        .limit(topN)\n",
    "        .select(\"user_id\")\n",
    "        .as[String]\n",
    "        .collect()\n",
    "        .toSet\n",
    "\n",
    "      if (topSimilarUsers.isEmpty) {\n",
    "        0.0\n",
    "      } else {\n",
    "        // 5. Among these users, get their score for the requested brand\n",
    "        val scores = dfWithFeatures\n",
    "          .filter($\"brandname\" === brandName && $\"user_id\".isin(topSimilarUsers.toSeq: _*) && $\"score\".isNotNull)\n",
    "          .select(\"score\")\n",
    "          .as[Double]\n",
    "          .collect()\n",
    "\n",
    "        if (scores.isEmpty) 0.0 else scores.sum / scores.length\n",
    "      }\n",
    "    }\n",
    "  }\n",
    "}"
   ]
  },
  {
   "cell_type": "code",
   "execution_count": 75,
   "id": "b742838b-3f7e-4253-b063-020a57e9bb2d",
   "metadata": {},
   "outputs": [
    {
     "name": "stdout",
     "output_type": "stream",
     "text": [
      "Predicted score for 10103222861828 and nike = 1.41\n"
     ]
    },
    {
     "data": {
      "text/plain": [
       "predicted: Double = 1.41\n"
      ]
     },
     "execution_count": 75,
     "metadata": {},
     "output_type": "execute_result"
    }
   ],
   "source": [
    "val predicted = getUserBrandScore(spark, df, \"10103222861828\", \"nike\", topN = 10)\n",
    "println(s\"Predicted score for 10103222861828 and nike = $predicted\")"
   ]
  },
  {
   "cell_type": "code",
   "execution_count": null,
   "id": "d829693f-4841-4725-b0dc-43a4d1d705c4",
   "metadata": {},
   "outputs": [],
   "source": []
  }
 ],
 "metadata": {
  "kernelspec": {
   "display_name": "spark",
   "language": "scala",
   "name": "spylon-kernel"
  },
  "language_info": {
   "codemirror_mode": "text/x-scala",
   "file_extension": ".scala",
   "help_links": [
    {
     "text": "MetaKernel Magics",
     "url": "https://metakernel.readthedocs.io/en/latest/source/README.html"
    }
   ],
   "mimetype": "text/x-scala",
   "name": "scala",
   "pygments_lexer": "scala",
   "version": "0.4.1"
  },
  "widgets": {
   "application/vnd.jupyter.widget-state+json": {
    "state": {},
    "version_major": 2,
    "version_minor": 0
   }
  }
 },
 "nbformat": 4,
 "nbformat_minor": 5
}
