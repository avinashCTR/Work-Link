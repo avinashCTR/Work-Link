{
 "cells": [
  {
   "cell_type": "code",
   "execution_count": 1,
   "id": "bec8c615-e067-416a-9a69-a8e1d406b13a",
   "metadata": {},
   "outputs": [],
   "source": [
    "%%init_spark\n",
    "launcher.conf.spark.app.name = \"archita_spark3\"\n",
    "launcher.conf.spark.local.dir = \"/data/tmp/spark\"\n",
    "launcher.conf.spark.driver.memory = \"100g\"\n",
    "launcher.conf.spark.executor.memory = \"50g\"\n",
    "launcher.conf.spark.executors = \"21\"\n",
    "launcher.conf.spark.executor.cores = \"21\"\n",
    "launcher.conf.spark.sql.shuffle.partitions = 210\n",
    "launcher.conf.spark.sql.shuffle.minPartitions = 20\n",
    "launcher.conf.spark.ui.showConsoleProgress = \"true\"\n",
    "launcher.conf.spark.yarn.keytab = \"/home/jioapp/aditya/jiomart_cluster/couture.keytab\"\n",
    "launcher.conf.spark.yarn.principal = \"couture@COUTURE.AI\"\n",
    "launcher.conf.spark.driver.extraJavaOptions = \"-Djava.security.krb5.conf=/home/jioapp/aditya/jiomart_cluster/krb5.conf\"\n",
    "launcher.conf.spark.executor.extraJavaOptions = \"-Djava.security.krb5.conf=/home/jioapp/aditya/jiomart_cluster/krb5.conf\""
   ]
  },
  {
   "cell_type": "code",
   "execution_count": 2,
   "id": "4e83c382-939d-44e1-9bd2-3fbac2d902a5",
   "metadata": {},
   "outputs": [
    {
     "data": {
      "text/plain": [
       "Intitializing Scala interpreter ..."
      ]
     },
     "metadata": {},
     "output_type": "display_data"
    },
    {
     "data": {
      "text/plain": [
       "Spark Web UI available at http://10.166.181.219:4048\n",
       "SparkContext available as 'sc' (version = 3.3.0, master = local[*], app id = local-1739272042746)\n",
       "SparkSession available as 'spark'\n"
      ]
     },
     "metadata": {},
     "output_type": "display_data"
    },
    {
     "data": {
      "text/plain": [
       "df_tq: org.apache.spark.sql.DataFrame = [query: string, products: array<struct<score:double,colorGroup_string:string>>]\n"
      ]
     },
     "execution_count": 2,
     "metadata": {},
     "output_type": "execute_result"
    }
   ],
   "source": [
    "var df_tq = spark.read.parquet(\"hdfs://10.144.96.170:8020/data1/searchengine/testing/ajio/query_product_scored_top_100\")"
   ]
  },
  {
   "cell_type": "code",
   "execution_count": 3,
   "id": "7774cbf1-5a60-46e5-83e5-6638b2801725",
   "metadata": {},
   "outputs": [
    {
     "name": "stdout",
     "output_type": "stream",
     "text": [
      "root\n",
      " |-- query: string (nullable = true)\n",
      " |-- products: array (nullable = true)\n",
      " |    |-- element: struct (containsNull = true)\n",
      " |    |    |-- score: double (nullable = true)\n",
      " |    |    |-- colorGroup_string: string (nullable = true)\n",
      "\n"
     ]
    }
   ],
   "source": [
    "df_tq.printSchema()"
   ]
  },
  {
   "cell_type": "code",
   "execution_count": 4,
   "id": "606c7358-aa4c-4d67-b71f-c3da088c7ed8",
   "metadata": {},
   "outputs": [
    {
     "name": "stdout",
     "output_type": "stream",
     "text": [
      "+--------------------+--------------------+\n",
      "|               query|            products|\n",
      "+--------------------+--------------------+\n",
      "|avaasa mix n&#39;...|[{0.7518140609999...|\n",
      "|              avassa|[{0.7875362045664...|\n",
      "|     black kurta set|[{0.7132429529390...|\n",
      "|          black suit|[{1.1628902667258...|\n",
      "|      crocs for boys|[{0.8881181879100...|\n",
      "|  earrings for women|[{0.7666670444833...|\n",
      "|         flats women|[{1.4732975056861...|\n",
      "|  formal shirt women|[{1.5846966474848...|\n",
      "|          grey jeans|[{1.4862912427823...|\n",
      "|        jogger jeans|[{0.860187000445,...|\n",
      "|   joggers for girls|[{0.6304325986932...|\n",
      "|    kurta sets women|[{0.6174382458639...|\n",
      "|                 lee|[{0.5325296184330...|\n",
      "| loose fit jeans men|[{0.6012513714102...|\n",
      "|     red chief shoes|[{0.7059111743190...|\n",
      "|       shirt for boy|[{0.7949280300428...|\n",
      "|              stoles|[{0.5807130449932...|\n",
      "|      t shirt women |[{1.1253523057234...|\n",
      "|     track pants men|[{0.7422959682151...|\n",
      "|       women sliders|[{0.6681773075867...|\n",
      "+--------------------+--------------------+\n",
      "only showing top 20 rows\n",
      "\n"
     ]
    }
   ],
   "source": [
    "df_tq.show()"
   ]
  },
  {
   "cell_type": "code",
   "execution_count": 5,
   "id": "d48dce9f-9c43-4db7-afb2-7696f35dbda6",
   "metadata": {},
   "outputs": [
    {
     "data": {
      "text/plain": [
       "df_tq: org.apache.spark.sql.DataFrame = [query: string, products: array<struct<score:double,colorGroup_string:string>> ... 1 more field]\n"
      ]
     },
     "execution_count": 5,
     "metadata": {},
     "output_type": "execute_result"
    }
   ],
   "source": [
    "df_tq = df_tq.withColumn(\"product\",explode(col(\"products\")))"
   ]
  },
  {
   "cell_type": "code",
   "execution_count": 6,
   "id": "12cb42b9-9f49-4383-9cbd-c014272822f2",
   "metadata": {},
   "outputs": [
    {
     "data": {
      "text/plain": [
       "df_tq: org.apache.spark.sql.DataFrame = [query: string, product: struct<score: double, colorGroup_string: string>]\n"
      ]
     },
     "execution_count": 6,
     "metadata": {},
     "output_type": "execute_result"
    }
   ],
   "source": [
    "df_tq = df_tq.drop(\"products\")"
   ]
  },
  {
   "cell_type": "code",
   "execution_count": 7,
   "id": "aa3c2c46-f432-41ad-8cd0-692318fb8e3a",
   "metadata": {},
   "outputs": [
    {
     "data": {
      "text/plain": [
       "df_tq: org.apache.spark.sql.DataFrame = [query: string, id: string ... 1 more field]\n"
      ]
     },
     "execution_count": 7,
     "metadata": {},
     "output_type": "execute_result"
    }
   ],
   "source": [
    "df_tq = df_tq.select(col(\"query\"),col(\"product.colorGroup_string\").alias(\"id\"),col(\"product.score\").alias(\"score\"))"
   ]
  },
  {
   "cell_type": "code",
   "execution_count": 8,
   "id": "f1b6c74f-7975-40a1-a097-8c8b00df27d5",
   "metadata": {},
   "outputs": [
    {
     "name": "stdout",
     "output_type": "stream",
     "text": [
      "root\n",
      " |-- query: string (nullable = true)\n",
      " |-- id: string (nullable = true)\n",
      " |-- score: double (nullable = true)\n",
      "\n"
     ]
    }
   ],
   "source": [
    "df_tq.printSchema()"
   ]
  },
  {
   "cell_type": "code",
   "execution_count": 9,
   "id": "fe7525ac-f73d-4c26-b37b-7efcf46c7924",
   "metadata": {},
   "outputs": [
    {
     "name": "stdout",
     "output_type": "stream",
     "text": [
      "+--------------------+--------------------+------------------+\n",
      "|               query|                  id|             score|\n",
      "+--------------------+--------------------+------------------+\n",
      "|avaasa mix n&#39;...|441144528_olivegreen|0.7518140609999999|\n",
      "|avaasa mix n&#39;...|      441124685_blue|0.7420315622033999|\n",
      "|avaasa mix n&#39;...|      441145550_blue|   0.7367807992086|\n",
      "|avaasa mix n&#39;...|      441146701_teal|   0.7360080622821|\n",
      "|avaasa mix n&#39;...|     441133434_peach|   0.7273994481226|\n",
      "|avaasa mix n&#39;...|441149941_pistagreen|0.7266052330579408|\n",
      "|avaasa mix n&#39;...|  441115970_offwhite|0.7249970551199432|\n",
      "|avaasa mix n&#39;...|      443007662_pink|0.7234900550381574|\n",
      "|avaasa mix n&#39;...|     441141761_coral|0.7226483943971731|\n",
      "|avaasa mix n&#39;...|    443003252_ltpink| 0.721764438020237|\n",
      "|avaasa mix n&#39;...| 441103249_limegreen|0.7215667576602801|\n",
      "|avaasa mix n&#39;...|     441124214_black|0.7195380612258001|\n",
      "|avaasa mix n&#39;...|      441134610_grey|  0.71755374799576|\n",
      "|avaasa mix n&#39;...|      441122924_lime|    0.714653299179|\n",
      "|avaasa mix n&#39;...|   440815682_mustard|   0.7146525639502|\n",
      "|avaasa mix n&#39;...|       441102721_red|0.7131425016798422|\n",
      "|avaasa mix n&#39;...|   441124094_mustard|0.7125202099533599|\n",
      "|avaasa mix n&#39;...|  441149590_offwhite|0.7109399897408978|\n",
      "|avaasa mix n&#39;...|     441114174_black|0.7103136712092201|\n",
      "|avaasa mix n&#39;...|     440989288_black|  0.70764349154576|\n",
      "+--------------------+--------------------+------------------+\n",
      "only showing top 20 rows\n",
      "\n"
     ]
    }
   ],
   "source": [
    "df_tq.show()"
   ]
  },
  {
   "cell_type": "code",
   "execution_count": 10,
   "id": "01d2a519-74b4-4653-966c-723d400100c4",
   "metadata": {
    "tags": []
   },
   "outputs": [
    {
     "data": {
      "text/plain": [
       "df_tq_2: org.apache.spark.sql.DataFrame = [date: string, search_type: string ... 8 more fields]\n"
      ]
     },
     "execution_count": 10,
     "metadata": {},
     "output_type": "execute_result"
    }
   ],
   "source": [
    "var df_tq_2 = spark.read.parquet(\"hdfs://10.144.96.170:8020/data1/searchengine/processedHistory20240301/ajio/NormalizedNonZeroProductInteractionsCombined\")"
   ]
  },
  {
   "cell_type": "code",
   "execution_count": 11,
   "id": "055a0172-f65e-4090-b855-1ddb64bf7875",
   "metadata": {
    "tags": []
   },
   "outputs": [
    {
     "name": "stdout",
     "output_type": "stream",
     "text": [
      "root\n",
      " |-- date: string (nullable = true)\n",
      " |-- search_type: string (nullable = true)\n",
      " |-- search_term: string (nullable = true)\n",
      " |-- option_code: string (nullable = true)\n",
      " |-- unique_session_seen: long (nullable = true)\n",
      " |-- impressions: long (nullable = true)\n",
      " |-- clicks: long (nullable = true)\n",
      " |-- total_revenue: double (nullable = true)\n",
      " |-- total_quantity: long (nullable = true)\n",
      " |-- query_normalised: array (nullable = true)\n",
      " |    |-- element: string (containsNull = true)\n",
      "\n"
     ]
    }
   ],
   "source": [
    "df_tq_2.printSchema()"
   ]
  },
  {
   "cell_type": "code",
   "execution_count": 19,
   "id": "91d3187d-6ca8-4cfc-ad49-a3452298c37e",
   "metadata": {},
   "outputs": [
    {
     "data": {
      "text/plain": [
       "res8: Long = 44675488\n"
      ]
     },
     "execution_count": 19,
     "metadata": {},
     "output_type": "execute_result"
    }
   ],
   "source": [
    "df_tq_2.filter(col(\"clicks\")>col(\"impressions\")).count()"
   ]
  },
  {
   "cell_type": "code",
   "execution_count": 12,
   "id": "e02705c5-d53d-4360-8d34-e0aa1a371cca",
   "metadata": {
    "tags": []
   },
   "outputs": [
    {
     "data": {
      "text/plain": [
       "df_tq_2: org.apache.spark.sql.DataFrame = [date: string, search_type: string ... 9 more fields]\n"
      ]
     },
     "execution_count": 12,
     "metadata": {},
     "output_type": "execute_result"
    }
   ],
   "source": [
    "df_tq_2 = df_tq_2.withColumn(\"query\",concat_ws(\" \",col(\"query_normalised\")))"
   ]
  },
  {
   "cell_type": "code",
   "execution_count": 13,
   "id": "cee301c1-ed23-4842-a87c-c177f1cae97c",
   "metadata": {
    "tags": []
   },
   "outputs": [
    {
     "data": {
      "text/plain": [
       "df_tq_2: org.apache.spark.sql.DataFrame = [query: string, option_code: string ... 3 more fields]\n"
      ]
     },
     "execution_count": 13,
     "metadata": {},
     "output_type": "execute_result"
    }
   ],
   "source": [
    "df_tq_2 = df_tq_2.groupBy(\"query\",\"option_code\")\n",
    ".agg(\n",
    "    sum(\"impressions\").alias(\"impressions\"),\n",
    "    sum(\"clicks\").alias(\"clicks\"),\n",
    ").withColumn(\n",
    "    \"ctr\",col(\"clicks\")/col(\"impressions\")\n",
    ")"
   ]
  },
  {
   "cell_type": "code",
   "execution_count": 14,
   "id": "0c18ada5-bae2-4067-a3aa-0e5d1d347385",
   "metadata": {},
   "outputs": [],
   "source": [
    "df_tq_2.write.option(\"header\",true).parquet(\"file:////app/notebooks/avinash/CTR/temp_dir/temp.parquet\")"
   ]
  },
  {
   "cell_type": "code",
   "execution_count": 16,
   "id": "f185b4e4-13de-4ed8-8d9a-2ddd563b4563",
   "metadata": {},
   "outputs": [
    {
     "data": {
      "text/plain": [
       "df_tq_3: org.apache.spark.sql.DataFrame = [query: string, option_code: string ... 3 more fields]\n"
      ]
     },
     "execution_count": 16,
     "metadata": {},
     "output_type": "execute_result"
    }
   ],
   "source": [
    "var df_tq_3 = spark.read.option(\"header\",true).parquet(\"file:////app/notebooks/avinash/CTR/temp_dir/temp.parquet\")"
   ]
  },
  {
   "cell_type": "code",
   "execution_count": 17,
   "id": "fc2f6112-a17c-4c5e-9761-27f363c8876c",
   "metadata": {},
   "outputs": [
    {
     "name": "stdout",
     "output_type": "stream",
     "text": [
      "+--------------------+--------------------+-----------+------+--------------------+\n",
      "|               query|         option_code|impressions|clicks|                 ctr|\n",
      "+--------------------+--------------------+-----------+------+--------------------+\n",
      "|       socks for men|469503742_carbonb...|         54|     8| 0.14814814814814814|\n",
      "|                caps|       442125070_red|       2083|    87|0.041766682669227076|\n",
      "|      jeans jeggings|     465249662_white|     173443|  4965|0.028626119243786143|\n",
      "|gold colour plane...|      461488344_blue|          1|     1|                 1.0|\n",
      "|     shirt for women|      443009454_pink|        931|    85| 0.09129967776584318|\n",
      "|              kurtas|     443007682_black|     925745| 18884|0.020398705907134253|\n",
      "|            handbags|     469568443_black|       2644|   119|0.045007564296520426|\n",
      "|             kimaira|      464969996_teal|          8|     6|                0.75|\n",
      "|              svrnaa|   441213450_mustard|       4676|   398| 0.08511548331907613|\n",
      "|red tape flip flo...|       700287302_tan|        766|    34|0.044386422976501305|\n",
      "|      slim fit shirt|     465454370_green|         19|     7|  0.3684210526315789|\n",
      "|      wide leg jeans|     466439945_black|       2543|    37|0.014549744396382226|\n",
      "|baby girl night p...|      441122146_navy|          2|     2|                 1.0|\n",
      "|  handbags for women|     466987268_beige|      25482|   360|0.014127619496114905|\n",
      "|                dnmx|  443280925_jetblack|       2434|   166| 0.06820049301561217|\n",
      "|      shirt for boys|      441142819_navy|       7240|   548| 0.07569060773480663|\n",
      "|        tees for men|      441000451_navy|         95|    20| 0.21052631578947367|\n",
      "|women red tape fl...|      469199601_navy|        547|    51| 0.09323583180987204|\n",
      "|          kurta sets|     410332831_green|      39762|  2328|0.058548362758412555|\n",
      "|          yellow top|   469460066_mustard|          8|     3|               0.375|\n",
      "+--------------------+--------------------+-----------+------+--------------------+\n",
      "only showing top 20 rows\n",
      "\n"
     ]
    }
   ],
   "source": [
    "df_tq_3.show()"
   ]
  },
  {
   "cell_type": "code",
   "execution_count": 18,
   "id": "1c8248ce-ba58-478f-a38f-54e23fd91209",
   "metadata": {},
   "outputs": [
    {
     "data": {
      "text/plain": [
       "res7: Long = 44675488\n"
      ]
     },
     "execution_count": 18,
     "metadata": {},
     "output_type": "execute_result"
    }
   ],
   "source": [
    "df_tq_3.filter(col(\"clicks\")>col(\"impressions\")).count()"
   ]
  },
  {
   "cell_type": "code",
   "execution_count": 12,
   "id": "79a33e29-0484-44e2-b044-eeef04a837ad",
   "metadata": {},
   "outputs": [
    {
     "data": {
      "text/plain": [
       "joined_df: org.apache.spark.sql.DataFrame = [query: string, id: string ... 2 more fields]\n"
      ]
     },
     "execution_count": 12,
     "metadata": {},
     "output_type": "execute_result"
    }
   ],
   "source": [
    "var joined_df = df_tq.join(df_tq_3,df_tq(\"query\")===df_tq_3(\"query\") && df_tq(\"id\")===df_tq_3(\"option_code\"),\"left_outer\")\n",
    ".drop(\n",
    "    df_tq_3(\"query\")\n",
    ").drop(df_tq_3(\"impressions\")).drop(df_tq_3(\"clicks\")).drop(df_tq_3(\"option_code\"))"
   ]
  },
  {
   "cell_type": "code",
   "execution_count": 13,
   "id": "143074ca-2c15-4829-94b9-85344bf2c352",
   "metadata": {},
   "outputs": [
    {
     "name": "stdout",
     "output_type": "stream",
     "text": [
      "+--------------------+--------------------+------------------+--------------------+\n",
      "|               query|                  id|             score|                 ctr|\n",
      "+--------------------+--------------------+------------------+--------------------+\n",
      "|    aavasa kurta set|      440960737_blue|  0.63124241194602|                null|\n",
      "|      american eagle|      460982167_blue| 0.603387042340285|                 0.1|\n",
      "|              avaasa|      441177985_blue|0.6508442145969531|                null|\n",
      "|               bikni|     462362440_green|0.6295511720236723|                null|\n",
      "|  anarkali for women|    464854096_purple|0.5675540506766841|0.021047596268835206|\n",
      "|      anarkali kurti|    464363602_yellow|0.5804269032123549|                 1.0|\n",
      "|          adidas cap|     410264726_black|0.5986362396783556| 0.02685325264750378|\n",
      "|                acai|     469228247_green|0.5504899508635408|  0.1136789506558401|\n",
      "|                acai|  469228258_seagreen|0.5583710281594695| 0.05393482282624164|\n",
      "|        avaasa kurta|      441145550_blue|    0.714476011803|  0.0995405819295559|\n",
      "|    basketball shoes|      469206666_blue|0.6783233051865001|0.043753027192840833|\n",
      "|        aavasa kurta|   441035128_mustard|  0.69883986375288|                null|\n",
      "|   addidas shoes men|     469206553_white|0.7458730244648999|                null|\n",
      "|      anarkali kurti|      463988509_blue|0.5828115023603001|                null|\n",
      "|avasa kurta for w...|   440989347_mustard|   0.7183725328504|                null|\n",
      "|        a line dress|     469296367_black|1.2132578352042227|                 1.0|\n",
      "|        aavasa kurta|  441115970_offwhite|0.7008552331267078|  0.2777777777777778|\n",
      "|      anarkali kurti|  441136182_offwhite|    0.604312744041| 0.09162303664921466|\n",
      "|              avaasa|    441136516_ltaqua|0.6360295661672399|                null|\n",
      "|avasa kurta for w...|441149941_pistagreen|0.7138521040818099|  0.7272727272727273|\n",
      "+--------------------+--------------------+------------------+--------------------+\n",
      "only showing top 20 rows\n",
      "\n"
     ]
    }
   ],
   "source": [
    "joined_df.show()"
   ]
  },
  {
   "cell_type": "code",
   "execution_count": 14,
   "id": "1cc02371-06e9-47f7-ade9-02933e112781",
   "metadata": {},
   "outputs": [],
   "source": [
    "// joined_df.write.option(\"header\",true).parquet(\"file:////app/notebooks/avinash/CTR/CTR-output.parquet\")"
   ]
  },
  {
   "cell_type": "code",
   "execution_count": 15,
   "id": "29dd4cc3-c314-4585-a990-d828573af3d8",
   "metadata": {},
   "outputs": [
    {
     "data": {
      "text/plain": [
       "null_ctr_df: org.apache.spark.sql.Dataset[org.apache.spark.sql.Row] = [query: string, id: string ... 2 more fields]\n"
      ]
     },
     "execution_count": 15,
     "metadata": {},
     "output_type": "execute_result"
    }
   ],
   "source": [
    "var null_ctr_df=joined_df.filter(col(\"ctr\").isNull)"
   ]
  },
  {
   "cell_type": "code",
   "execution_count": 16,
   "id": "4281e600-bbfa-49ef-8ebc-c785a1a87703",
   "metadata": {},
   "outputs": [
    {
     "name": "stdout",
     "output_type": "stream",
     "text": [
      "+--------------------+--------------------+-------------------+----+\n",
      "|               query|                  id|              score| ctr|\n",
      "+--------------------+--------------------+-------------------+----+\n",
      "|                   a|4928740550_sweeta...|0.33627840254999997|null|\n",
      "|             aavaasa|   441074603_mustard|    0.5903793948572|null|\n",
      "|        aavasa kurta|      441035132_aqua|   0.68002993099217|null|\n",
      "|    aavasa kurta set|      440960737_blue|   0.63124241194602|null|\n",
      "|    aavasa kurta set|  441024037_ltorange|    0.5965028142255|null|\n",
      "|       aavasa kurtas|      441055704_navy| 0.6779514591821161|null|\n",
      "|      addidas shoes |     469107522_black|   0.68105724570706|null|\n",
      "|     adidas backpack|     460776866_multi|         0.57385194|null|\n",
      "|       adidas terrex|     460930503_black|   0.53607642294164|null|\n",
      "|       adidas tshirt|     469111891_green|   0.69800189916795|null|\n",
      "|             adizero|     460929979_black|0.42664571135167867|null|\n",
      "|              airmax|     458005122_black|0.43275625396269995|null|\n",
      "|             airpods|  410099325_assorted|0.32071540229572015|null|\n",
      "|               ajmal|    4926681990_multi|   1.26471920271396|null|\n",
      "|      alia cut kurta|     465382212_white|   0.42846824787538|null|\n",
      "|      alia cut kurta|     465382212_white|0.42771293072818006|null|\n",
      "|   allen solly shirt|    469175033_yellow| 1.5369490675702342|null|\n",
      "|anarkali kurtas a...|     469074351_black|    0.5064387444564|null|\n",
      "|        anime tshirt|     464464733_peach|         0.51036716|null|\n",
      "|armani exchange t...|     410223754_black| 0.6652054352168267|null|\n",
      "+--------------------+--------------------+-------------------+----+\n",
      "only showing top 20 rows\n",
      "\n"
     ]
    }
   ],
   "source": [
    "null_ctr_df.show()"
   ]
  },
  {
   "cell_type": "code",
   "execution_count": 17,
   "id": "29d935e6-7510-4c08-944d-d0d1652bdf6c",
   "metadata": {},
   "outputs": [
    {
     "data": {
      "text/plain": [
       "res8: Long = 195549\n"
      ]
     },
     "execution_count": 17,
     "metadata": {},
     "output_type": "execute_result"
    }
   ],
   "source": [
    "null_ctr_df.count()"
   ]
  },
  {
   "cell_type": "code",
   "execution_count": 18,
   "id": "fc830f5e-03bf-4435-a058-95b5a62ee6dc",
   "metadata": {},
   "outputs": [
    {
     "data": {
      "text/plain": [
       "res9: Long = 468964\n"
      ]
     },
     "execution_count": 18,
     "metadata": {},
     "output_type": "execute_result"
    }
   ],
   "source": [
    "joined_df.count()"
   ]
  },
  {
   "cell_type": "code",
   "execution_count": 19,
   "id": "bd610dd5-7c3a-4d86-ba37-396db7102094",
   "metadata": {},
   "outputs": [
    {
     "name": "stdout",
     "output_type": "stream",
     "text": [
      "+-----+------------------+-------------------+-----------------+\n",
      "|query|                id|              score|              ctr|\n",
      "+-----+------------------+-------------------+-----------------+\n",
      "|mixer|   410059722_noclr|     0.382862983475|             null|\n",
      "|mixer|   410059828_noclr|0.39605933984880004|             null|\n",
      "|mixer|   410059869_noclr|     0.374602575105|             null|\n",
      "|mixer|410061328_nocolour|0.41666000021618405|             null|\n",
      "|mixer| 410065874_nocolor|     0.378054904776|             null|\n",
      "|mixer| 410065875_nocolor|0.38882983790699993|             null|\n",
      "|mixer| 410065877_nocolor|    0.3776055625908|             null|\n",
      "|mixer|     410070436_etc|          0.3782782|             null|\n",
      "|mixer|     410079628_etc|    0.3982562452255|             null|\n",
      "|mixer|     410081113_etc|    0.3833394109024|5.333333333333333|\n",
      "|mixer|     410242110_091|0.39673555768319996|             null|\n",
      "|mixer|     410242111_091|    0.3922935386963|             null|\n",
      "|mixer|     410244790_000|    0.3997085584792|             null|\n",
      "|mixer|    463276046_pink|0.37979937604180003|             null|\n",
      "|mixer|   463276047_multi|   0.38290295982222|             null|\n",
      "|mixer|   463276082_black|0.37926789461219995|             null|\n",
      "|mixer|  463310181_silver|0.38895404630479996|             null|\n",
      "|mixer|  463369844_silver|0.37951624954079993|             null|\n",
      "|mixer|   463389016_black|     0.388666367856|             null|\n",
      "|mixer|  464164025_silver|   0.39857221785337|             null|\n",
      "+-----+------------------+-------------------+-----------------+\n",
      "only showing top 20 rows\n",
      "\n"
     ]
    }
   ],
   "source": [
    "joined_df.filter(col(\"query\") === \"mixer\").show()"
   ]
  },
  {
   "cell_type": "code",
   "execution_count": 17,
   "id": "5e31b67c-2eae-4a89-919e-3c9065edf7fe",
   "metadata": {},
   "outputs": [
    {
     "data": {
      "text/plain": [
       "not_null_df: org.apache.spark.sql.Dataset[org.apache.spark.sql.Row] = [query: string, id: string ... 2 more fields]\n"
      ]
     },
     "execution_count": 17,
     "metadata": {},
     "output_type": "execute_result"
    }
   ],
   "source": [
    "var not_null_df = joined_df.filter(!col(\"ctr\").isNull)"
   ]
  },
  {
   "cell_type": "code",
   "execution_count": 18,
   "id": "5238931a-8b6b-4146-a07b-a88a8035e6e2",
   "metadata": {},
   "outputs": [
    {
     "data": {
      "text/plain": [
       "not_null_df: org.apache.spark.sql.Dataset[org.apache.spark.sql.Row] = [query: string, avg_ctr_query_level: double]\n"
      ]
     },
     "execution_count": 18,
     "metadata": {},
     "output_type": "execute_result"
    }
   ],
   "source": [
    "not_null_df = not_null_df.groupBy(\"query\").agg(avg(col(\"ctr\")).alias(\"avg_ctr_query_level\"))"
   ]
  },
  {
   "cell_type": "code",
   "execution_count": 19,
   "id": "7b806655-b87e-47e8-b5da-72a912fc86e2",
   "metadata": {},
   "outputs": [
    {
     "data": {
      "text/plain": [
       "not_null_df: org.apache.spark.sql.Dataset[org.apache.spark.sql.Row] = [query: string, avg_ctr_query_level: double]\n"
      ]
     },
     "execution_count": 19,
     "metadata": {},
     "output_type": "execute_result"
    }
   ],
   "source": [
    "not_null_df = not_null_df.orderBy(desc(\"avg_ctr_query_level\"))"
   ]
  },
  {
   "cell_type": "code",
   "execution_count": 20,
   "id": "39d76083-61de-4a35-8032-1f5e9253a636",
   "metadata": {},
   "outputs": [
    {
     "name": "stdout",
     "output_type": "stream",
     "text": [
      "25/02/11 16:21:18 WARN SparkConf: The configuration key 'spark.yarn.keytab' has been deprecated as of Spark 3.0 and may be removed in the future. Please use the new key 'spark.kerberos.keytab' instead.\n",
      "25/02/11 16:21:18 WARN SparkConf: The configuration key 'spark.yarn.principal' has been deprecated as of Spark 3.0 and may be removed in the future. Please use the new key 'spark.kerberos.principal' instead.\n",
      "+--------------------+-------------------+\n",
      "|               query|avg_ctr_query_level|\n",
      "+--------------------+-------------------+\n",
      "|               mixer|  5.333333333333333|\n",
      "|      football studs|                2.0|\n",
      "|              fleece|                2.0|\n",
      "|       legenga choli| 1.5569948186528497|\n",
      "|            sherwani|             1.3125|\n",
      "|          tunic tops|               1.25|\n",
      "|      downshifter 13| 1.2047619047619047|\n",
      "|      jean for women| 1.1164625850340137|\n",
      "|           coard set| 1.0833333333333333|\n",
      "|  varsity jacket men| 1.0801617143555882|\n",
      "|                 boy| 1.0382566585956416|\n",
      "|         dress women| 1.0340277777777778|\n",
      "|         jeans woman| 1.0333333333333334|\n",
      "|         woman dress| 1.0238095238095237|\n",
      "|              pureza| 1.0181975736568458|\n",
      "|        short kurthi| 1.0179951690821256|\n",
      "|boot cut jeans fo...| 1.0018813801032391|\n",
      "|     pakistani suits|                1.0|\n",
      "|        womens dress|                1.0|\n",
      "|     tops for womens|                1.0|\n",
      "+--------------------+-------------------+\n",
      "only showing top 20 rows\n",
      "\n"
     ]
    }
   ],
   "source": [
    "not_null_df.show()"
   ]
  },
  {
   "cell_type": "code",
   "execution_count": 21,
   "id": "f317c716-553f-4710-88b4-2e328763f70f",
   "metadata": {},
   "outputs": [
    {
     "data": {
      "text/plain": [
       "not_null_df: org.apache.spark.sql.Dataset[org.apache.spark.sql.Row] = [query: string, avg_ctr_query_level: double]\n"
      ]
     },
     "execution_count": 21,
     "metadata": {},
     "output_type": "execute_result"
    }
   ],
   "source": [
    "not_null_df = not_null_df.withColumn(\"avg_ctr_query_level\",when(col(\"avg_ctr_query_level\")>1,1).otherwise(col(\"avg_ctr_query_level\")))"
   ]
  },
  {
   "cell_type": "code",
   "execution_count": 23,
   "id": "de1d781d-a3b9-4587-996e-669e22431e51",
   "metadata": {},
   "outputs": [
    {
     "name": "stdout",
     "output_type": "stream",
     "text": [
      "25/02/11 16:22:19 WARN SparkConf: The configuration key 'spark.yarn.keytab' has been deprecated as of Spark 3.0 and may be removed in the future. Please use the new key 'spark.kerberos.keytab' instead.\n",
      "25/02/11 16:22:19 WARN SparkConf: The configuration key 'spark.yarn.principal' has been deprecated as of Spark 3.0 and may be removed in the future. Please use the new key 'spark.kerberos.principal' instead.\n",
      "+--------------------+-------------------+\n",
      "|               query|avg_ctr_query_level|\n",
      "+--------------------+-------------------+\n",
      "|               mixer|                1.0|\n",
      "|      football studs|                1.0|\n",
      "|              fleece|                1.0|\n",
      "|       legenga choli|                1.0|\n",
      "|            sherwani|                1.0|\n",
      "|          tunic tops|                1.0|\n",
      "|      downshifter 13|                1.0|\n",
      "|      jean for women|                1.0|\n",
      "|           coard set|                1.0|\n",
      "|  varsity jacket men|                1.0|\n",
      "|                 boy|                1.0|\n",
      "|         dress women|                1.0|\n",
      "|         jeans woman|                1.0|\n",
      "|         woman dress|                1.0|\n",
      "|              pureza|                1.0|\n",
      "|        short kurthi|                1.0|\n",
      "|boot cut jeans fo...|                1.0|\n",
      "|     tops for womens|                1.0|\n",
      "|western top for w...|                1.0|\n",
      "|        ladies frock|                1.0|\n",
      "+--------------------+-------------------+\n",
      "only showing top 20 rows\n",
      "\n"
     ]
    }
   ],
   "source": [
    "not_null_df.show()"
   ]
  },
  {
   "cell_type": "code",
   "execution_count": 22,
   "id": "e7d4ede4-4c6c-4e3b-b666-c7f4fb51326a",
   "metadata": {},
   "outputs": [
    {
     "name": "stdout",
     "output_type": "stream",
     "text": [
      "25/02/11 16:21:46 WARN SparkConf: The configuration key 'spark.yarn.keytab' has been deprecated as of Spark 3.0 and may be removed in the future. Please use the new key 'spark.kerberos.keytab' instead.\n",
      "25/02/11 16:21:46 WARN SparkConf: The configuration key 'spark.yarn.principal' has been deprecated as of Spark 3.0 and may be removed in the future. Please use the new key 'spark.kerberos.principal' instead.\n"
     ]
    }
   ],
   "source": [
    "not_null_df.write.option(\"header\",true).parquet(\"hdfs://10.144.96.170:8020/data1/archive/avinash/SearchTests/CTR/ctr-query-level.parquet\")"
   ]
  },
  {
   "cell_type": "code",
   "execution_count": null,
   "id": "ee43cc7d-abd7-45db-89c2-9bbc6ced9594",
   "metadata": {},
   "outputs": [
    {
     "name": "stdout",
     "output_type": "stream",
     "text": [
      "25/02/11 16:33:38 WARN UserGroupInformation: Not attempting to re-login since the last re-login was attempted less than 60 seconds before. Last Login=1739271814605\n",
      "25/02/11 16:33:42 WARN UserGroupInformation: Not attempting to re-login since the last re-login was attempted less than 60 seconds before. Last Login=1739271814605\n",
      "25/02/11 16:33:47 WARN UserGroupInformation: Not attempting to re-login since the last re-login was attempted less than 60 seconds before. Last Login=1739271814605\n",
      "25/02/11 16:33:51 WARN UserGroupInformation: Not attempting to re-login since the last re-login was attempted less than 60 seconds before. Last Login=1739271814605\n",
      "25/02/11 16:33:55 WARN Client: Couldn't setup connection for couture@COUTURE.AI to jmngd1baf370c10/10.144.97.194:8020\n",
      "javax.security.sasl.SaslException: GSS initiate failed [Caused by GSSException: No valid credentials provided (Mechanism level: Server not found in Kerberos database (7) - LOOKING_UP_SERVER)]\n",
      "\tat com.sun.security.sasl.gsskerb.GssKrb5Client.evaluateChallenge(GssKrb5Client.java:211)\n",
      "\tat org.apache.hadoop.security.SaslRpcClient.saslConnect(SaslRpcClient.java:410)\n",
      "\tat org.apache.hadoop.ipc.Client$Connection.setupSaslConnection(Client.java:623)\n",
      "\tat org.apache.hadoop.ipc.Client$Connection.access$2300(Client.java:414)\n",
      "\tat org.apache.hadoop.ipc.Client$Connection$2.run(Client.java:843)\n",
      "\tat org.apache.hadoop.ipc.Client$Connection$2.run(Client.java:839)\n",
      "\tat java.security.AccessController.doPrivileged(Native Method)\n",
      "\tat javax.security.auth.Subject.doAs(Subject.java:422)\n",
      "\tat org.apache.hadoop.security.UserGroupInformation.doAs(UserGroupInformation.java:1878)\n",
      "\tat org.apache.hadoop.ipc.Client$Connection.setupIOstreams(Client.java:839)\n",
      "\tat org.apache.hadoop.ipc.Client$Connection.access$3800(Client.java:414)\n",
      "\tat org.apache.hadoop.ipc.Client.getConnection(Client.java:1677)\n",
      "\tat org.apache.hadoop.ipc.Client.call(Client.java:1502)\n",
      "\tat org.apache.hadoop.ipc.Client.call(Client.java:1455)\n",
      "\tat org.apache.hadoop.ipc.ProtobufRpcEngine2$Invoker.invoke(ProtobufRpcEngine2.java:242)\n",
      "\tat org.apache.hadoop.ipc.ProtobufRpcEngine2$Invoker.invoke(ProtobufRpcEngine2.java:129)\n",
      "\tat com.sun.proxy.$Proxy34.getFileInfo(Unknown Source)\n",
      "\tat org.apache.hadoop.hdfs.protocolPB.ClientNamenodeProtocolTranslatorPB.getFileInfo(ClientNamenodeProtocolTranslatorPB.java:965)\n",
      "\tat sun.reflect.GeneratedMethodAccessor121.invoke(Unknown Source)\n",
      "\tat sun.reflect.DelegatingMethodAccessorImpl.invoke(DelegatingMethodAccessorImpl.java:43)\n",
      "\tat java.lang.reflect.Method.invoke(Method.java:498)\n",
      "\tat org.apache.hadoop.io.retry.RetryInvocationHandler.invokeMethod(RetryInvocationHandler.java:422)\n",
      "\tat org.apache.hadoop.io.retry.RetryInvocationHandler$Call.invokeMethod(RetryInvocationHandler.java:165)\n",
      "\tat org.apache.hadoop.io.retry.RetryInvocationHandler$Call.invoke(RetryInvocationHandler.java:157)\n",
      "\tat org.apache.hadoop.io.retry.RetryInvocationHandler$Call.invokeOnce(RetryInvocationHandler.java:95)\n",
      "\tat org.apache.hadoop.io.retry.RetryInvocationHandler.invoke(RetryInvocationHandler.java:359)\n",
      "\tat com.sun.proxy.$Proxy35.getFileInfo(Unknown Source)\n",
      "\tat org.apache.hadoop.hdfs.DFSClient.getFileInfo(DFSClient.java:1739)\n",
      "\tat org.apache.hadoop.hdfs.DistributedFileSystem$29.doCall(DistributedFileSystem.java:1753)\n",
      "\tat org.apache.hadoop.hdfs.DistributedFileSystem$29.doCall(DistributedFileSystem.java:1750)\n",
      "\tat org.apache.hadoop.fs.FileSystemLinkResolver.resolve(FileSystemLinkResolver.java:81)\n",
      "\tat org.apache.hadoop.hdfs.DistributedFileSystem.getFileStatus(DistributedFileSystem.java:1765)\n",
      "\tat org.apache.hadoop.fs.FileSystem.exists(FileSystem.java:1760)\n",
      "\tat org.apache.spark.sql.execution.datasources.InsertIntoHadoopFsRelationCommand.run(InsertIntoHadoopFsRelationCommand.scala:117)\n",
      "\tat org.apache.spark.sql.execution.command.DataWritingCommandExec.sideEffectResult$lzycompute(commands.scala:113)\n",
      "\tat org.apache.spark.sql.execution.command.DataWritingCommandExec.sideEffectResult(commands.scala:111)\n",
      "\tat org.apache.spark.sql.execution.command.DataWritingCommandExec.executeCollect(commands.scala:125)\n",
      "\tat org.apache.spark.sql.execution.QueryExecution$$anonfun$eagerlyExecuteCommands$1.$anonfun$applyOrElse$1(QueryExecution.scala:98)\n",
      "\tat org.apache.spark.sql.execution.SQLExecution$.$anonfun$withNewExecutionId$6(SQLExecution.scala:109)\n",
      "\tat org.apache.spark.sql.execution.SQLExecution$.withSQLConfPropagated(SQLExecution.scala:169)\n",
      "\tat org.apache.spark.sql.execution.SQLExecution$.$anonfun$withNewExecutionId$1(SQLExecution.scala:95)\n",
      "\tat org.apache.spark.sql.SparkSession.withActive(SparkSession.scala:779)\n",
      "\tat org.apache.spark.sql.execution.SQLExecution$.withNewExecutionId(SQLExecution.scala:64)\n",
      "\tat org.apache.spark.sql.execution.QueryExecution$$anonfun$eagerlyExecuteCommands$1.applyOrElse(QueryExecution.scala:98)\n",
      "\tat org.apache.spark.sql.execution.QueryExecution$$anonfun$eagerlyExecuteCommands$1.applyOrElse(QueryExecution.scala:94)\n",
      "\tat org.apache.spark.sql.catalyst.trees.TreeNode.$anonfun$transformDownWithPruning$1(TreeNode.scala:584)\n",
      "\tat org.apache.spark.sql.catalyst.trees.CurrentOrigin$.withOrigin(TreeNode.scala:176)\n",
      "\tat org.apache.spark.sql.catalyst.trees.TreeNode.transformDownWithPruning(TreeNode.scala:584)\n",
      "\tat org.apache.spark.sql.catalyst.plans.logical.LogicalPlan.org$apache$spark$sql$catalyst$plans$logical$AnalysisHelper$$super$transformDownWithPruning(LogicalPlan.scala:30)\n",
      "\tat org.apache.spark.sql.catalyst.plans.logical.AnalysisHelper.transformDownWithPruning(AnalysisHelper.scala:267)\n",
      "\tat org.apache.spark.sql.catalyst.plans.logical.AnalysisHelper.transformDownWithPruning$(AnalysisHelper.scala:263)\n",
      "\tat org.apache.spark.sql.catalyst.plans.logical.LogicalPlan.transformDownWithPruning(LogicalPlan.scala:30)\n",
      "\tat org.apache.spark.sql.catalyst.plans.logical.LogicalPlan.transformDownWithPruning(LogicalPlan.scala:30)\n",
      "\tat org.apache.spark.sql.catalyst.trees.TreeNode.transformDown(TreeNode.scala:560)\n",
      "\tat org.apache.spark.sql.execution.QueryExecution.eagerlyExecuteCommands(QueryExecution.scala:94)\n",
      "\tat org.apache.spark.sql.execution.QueryExecution.commandExecuted$lzycompute(QueryExecution.scala:81)\n",
      "\tat org.apache.spark.sql.execution.QueryExecution.commandExecuted(QueryExecution.scala:79)\n",
      "\tat org.apache.spark.sql.execution.QueryExecution.assertCommandExecuted(QueryExecution.scala:116)\n",
      "\tat org.apache.spark.sql.DataFrameWriter.runCommand(DataFrameWriter.scala:860)\n",
      "\tat org.apache.spark.sql.DataFrameWriter.saveToV1Source(DataFrameWriter.scala:390)\n",
      "\tat org.apache.spark.sql.DataFrameWriter.saveInternal(DataFrameWriter.scala:363)\n",
      "\tat org.apache.spark.sql.DataFrameWriter.save(DataFrameWriter.scala:239)\n",
      "\tat org.apache.spark.sql.DataFrameWriter.parquet(DataFrameWriter.scala:793)\n",
      "\tat $line28.$read$$iw$$iw$$iw$$iw$$iw$$iw$$iw$$iw.<init>(<console>:26)\n",
      "\tat $line28.$read$$iw$$iw$$iw$$iw$$iw$$iw$$iw.<init>(<console>:31)\n",
      "\tat $line28.$read$$iw$$iw$$iw$$iw$$iw$$iw.<init>(<console>:33)\n",
      "\tat $line28.$read$$iw$$iw$$iw$$iw$$iw.<init>(<console>:35)\n",
      "\tat $line28.$read$$iw$$iw$$iw$$iw.<init>(<console>:37)\n",
      "\tat $line28.$read$$iw$$iw$$iw.<init>(<console>:39)\n",
      "\tat $line28.$read$$iw$$iw.<init>(<console>:41)\n",
      "\tat $line28.$read$$iw.<init>(<console>:43)\n",
      "\tat $line28.$read.<init>(<console>:45)\n",
      "\tat $line28.$read$.<init>(<console>:49)\n",
      "\tat $line28.$read$.<clinit>(<console>)\n",
      "\tat $line28.$eval$.$print$lzycompute(<console>:7)\n",
      "\tat $line28.$eval$.$print(<console>:6)\n",
      "\tat $line28.$eval.$print(<console>)\n",
      "\tat sun.reflect.NativeMethodAccessorImpl.invoke0(Native Method)\n",
      "\tat sun.reflect.NativeMethodAccessorImpl.invoke(NativeMethodAccessorImpl.java:62)\n",
      "\tat sun.reflect.DelegatingMethodAccessorImpl.invoke(DelegatingMethodAccessorImpl.java:43)\n",
      "\tat java.lang.reflect.Method.invoke(Method.java:498)\n",
      "\tat scala.tools.nsc.interpreter.IMain$ReadEvalPrint.call(IMain.scala:747)\n",
      "\tat scala.tools.nsc.interpreter.IMain$Request.loadAndRun(IMain.scala:1020)\n",
      "\tat scala.tools.nsc.interpreter.IMain.$anonfun$interpret$1(IMain.scala:568)\n",
      "\tat scala.reflect.internal.util.ScalaClassLoader.asContext(ScalaClassLoader.scala:36)\n",
      "\tat scala.reflect.internal.util.ScalaClassLoader.asContext$(ScalaClassLoader.scala:116)\n",
      "\tat scala.reflect.internal.util.AbstractFileClassLoader.asContext(AbstractFileClassLoader.scala:41)\n",
      "\tat scala.tools.nsc.interpreter.IMain.loadAndRunReq$1(IMain.scala:567)\n",
      "\tat scala.tools.nsc.interpreter.IMain.interpret(IMain.scala:594)\n",
      "\tat sun.reflect.GeneratedMethodAccessor145.invoke(Unknown Source)\n",
      "\tat sun.reflect.DelegatingMethodAccessorImpl.invoke(DelegatingMethodAccessorImpl.java:43)\n",
      "\tat java.lang.reflect.Method.invoke(Method.java:498)\n",
      "\tat py4j.reflection.MethodInvoker.invoke(MethodInvoker.java:244)\n",
      "\tat py4j.reflection.ReflectionEngine.invoke(ReflectionEngine.java:357)\n",
      "\tat py4j.Gateway.invoke(Gateway.java:282)\n",
      "\tat py4j.commands.AbstractCommand.invokeMethod(AbstractCommand.java:132)\n",
      "\tat py4j.commands.CallCommand.execute(CallCommand.java:79)\n",
      "\tat py4j.ClientServerConnection.waitForCommands(ClientServerConnection.java:182)\n",
      "\tat py4j.ClientServerConnection.run(ClientServerConnection.java:106)\n",
      "\tat java.lang.Thread.run(Thread.java:748)\n",
      "Caused by: GSSException: No valid credentials provided (Mechanism level: Server not found in Kerberos database (7) - LOOKING_UP_SERVER)\n",
      "\tat sun.security.jgss.krb5.Krb5Context.initSecContext(Krb5Context.java:772)\n",
      "\tat sun.security.jgss.GSSContextImpl.initSecContext(GSSContextImpl.java:248)\n",
      "\tat sun.security.jgss.GSSContextImpl.initSecContext(GSSContextImpl.java:179)\n",
      "\tat com.sun.security.sasl.gsskerb.GssKrb5Client.evaluateChallenge(GssKrb5Client.java:192)\n",
      "\t... 99 more\n",
      "Caused by: KrbException: Server not found in Kerberos database (7) - LOOKING_UP_SERVER\n",
      "\tat sun.security.krb5.KrbTgsRep.<init>(KrbTgsRep.java:73)\n",
      "\tat sun.security.krb5.KrbTgsReq.getReply(KrbTgsReq.java:225)\n",
      "\tat sun.security.krb5.KrbTgsReq.sendAndGetCreds(KrbTgsReq.java:236)\n",
      "\tat sun.security.krb5.internal.CredentialsUtil.serviceCredsSingle(CredentialsUtil.java:400)\n",
      "\tat sun.security.krb5.internal.CredentialsUtil.serviceCreds(CredentialsUtil.java:287)\n",
      "\tat sun.security.krb5.internal.CredentialsUtil.serviceCreds(CredentialsUtil.java:263)\n",
      "\tat sun.security.krb5.internal.CredentialsUtil.acquireServiceCreds(CredentialsUtil.java:118)\n",
      "\tat sun.security.krb5.Credentials.acquireServiceCreds(Credentials.java:490)\n",
      "\tat sun.security.jgss.krb5.Krb5Context.initSecContext(Krb5Context.java:695)\n",
      "\t... 102 more\n",
      "Caused by: KrbException: Identifier doesn't match expected value (906)\n",
      "\tat sun.security.krb5.internal.KDCRep.init(KDCRep.java:140)\n",
      "\tat sun.security.krb5.internal.TGSRep.init(TGSRep.java:65)\n",
      "\tat sun.security.krb5.internal.TGSRep.<init>(TGSRep.java:60)\n",
      "\tat sun.security.krb5.KrbTgsRep.<init>(KrbTgsRep.java:55)\n",
      "\t... 110 more\n"
     ]
    }
   ],
   "source": [
    "not_null_df.write.option(\"header\",true).parquet(\"/data1/archive/avinash/SearchTests/CTR/ctr-query-level.parquet\")"
   ]
  },
  {
   "cell_type": "code",
   "execution_count": null,
   "id": "05ca56c5-3e88-4fc5-97bb-eba285e9682a",
   "metadata": {},
   "outputs": [],
   "source": []
  }
 ],
 "metadata": {
  "kernelspec": {
   "display_name": "spark",
   "language": "scala",
   "name": "spylon-kernel"
  },
  "language_info": {
   "codemirror_mode": "text/x-scala",
   "file_extension": ".scala",
   "help_links": [
    {
     "text": "MetaKernel Magics",
     "url": "https://metakernel.readthedocs.io/en/latest/source/README.html"
    }
   ],
   "mimetype": "text/x-scala",
   "name": "scala",
   "pygments_lexer": "scala",
   "version": "0.4.1"
  },
  "widgets": {
   "application/vnd.jupyter.widget-state+json": {
    "state": {},
    "version_major": 2,
    "version_minor": 0
   }
  }
 },
 "nbformat": 4,
 "nbformat_minor": 5
}
