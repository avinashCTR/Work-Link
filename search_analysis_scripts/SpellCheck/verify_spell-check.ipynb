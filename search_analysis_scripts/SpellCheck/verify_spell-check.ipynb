{
 "cells": [
  {
   "cell_type": "code",
   "execution_count": 57,
   "id": "44f3300b-2468-4fe3-a39a-ecca7e655153",
   "metadata": {},
   "outputs": [],
   "source": [
    "%%init_spark\n",
    "launcher.jars = [\"/app/setup/commons.jar\"]\n",
    "launcher.conf.spark.app.name = \"tej_scratch_3\"\n",
    "launcher.conf.spark.local.dir = \"/data/tmp/spark\" \n",
    "launcher.conf.spark.sql.shuffle.partitions = 200  \n",
    "launcher.conf.spark.sql.shuffle.minPartitions = 20 \n",
    "launcher.conf.spark.driver.memory = \"8g\" \n",
    "launcher.conf.spark.executor.memory = \"3g\" \n",
    "launcher.conf.spark.ui.showConsoleProgress = \"true\"\n",
    "launcher.master = \"local[5]\""
   ]
  },
  {
   "cell_type": "code",
   "execution_count": 58,
   "id": "3609f175-2701-4c88-91f7-24cda3fcad76",
   "metadata": {},
   "outputs": [
    {
     "data": {
      "text/plain": [
       "df_tq: org.apache.spark.sql.DataFrame = [_c0: string, query: string ... 1 more field]\n"
      ]
     },
     "execution_count": 58,
     "metadata": {},
     "output_type": "execute_result"
    }
   ],
   "source": [
    "var df_tq = spark.read.option(\"header\",true).csv(\"file:////app/notebooks/avinash/SpellCheck-test-data/lumos-0.8.7_spell_check_test_data.csv\")"
   ]
  },
  {
   "cell_type": "code",
   "execution_count": 59,
   "id": "f501704b-1d71-4f59-9dad-a4a22bcfdc48",
   "metadata": {},
   "outputs": [
    {
     "data": {
      "text/plain": [
       "original_df: org.apache.spark.sql.DataFrame = [query: string, mistake_queries: string]\n"
      ]
     },
     "execution_count": 59,
     "metadata": {},
     "output_type": "execute_result"
    }
   ],
   "source": [
    "var original_df = spark.read.option(\"header\",true).csv(\"/data1/archive/avinash/SearchTests/TestData/SpellCheck/spell_check_test_data.csv\")"
   ]
  },
  {
   "cell_type": "code",
   "execution_count": 60,
   "id": "5f32af1b-e7f1-4fdf-87bf-7005d43fec25",
   "metadata": {},
   "outputs": [
    {
     "name": "stdout",
     "output_type": "stream",
     "text": [
      "root\n",
      " |-- _c0: string (nullable = true)\n",
      " |-- query: string (nullable = true)\n",
      " |-- corrected_query_word_seg: string (nullable = true)\n",
      "\n"
     ]
    }
   ],
   "source": [
    "df_tq.printSchema()"
   ]
  },
  {
   "cell_type": "code",
   "execution_count": 61,
   "id": "e5ca39cd-cb5b-458a-a514-8b8a21b12ffa",
   "metadata": {},
   "outputs": [
    {
     "name": "stdout",
     "output_type": "stream",
     "text": [
      "25/02/11 11:07:26 WARN CSVHeaderChecker: CSV header does not conform to the schema.\n",
      " Header: , query, corrected_query_word_seg\n",
      " Schema: _c0, query, corrected_query_word_seg\n",
      "Expected: _c0 but found: \n",
      "CSV file: file:///app/notebooks/avinash/SpellCheck-test-data/lumos-0.8.7_spell_check_test_data.csv\n",
      "+---+--------------------+------------------------+\n",
      "|_c0|               query|corrected_query_word_seg|\n",
      "+---+--------------------+------------------------+\n",
      "|  0|   satchels jandbags|       satchels handbags|\n",
      "|  1|flooral printed saee|     floral print sarees|\n",
      "|  2|021-black shiort ...|      32b lace short top|\n",
      "|  3|61l 2eague casual...|    61l league casual...|\n",
      "|  4|        9 impreseaon|            9 impression|\n",
      "|  5|a-lii dresses in ...|    ali dresses in ki...|\n",
      "|  6|a-line dresses in...|    a line dress in v...|\n",
      "|  7|abstroct shrts in...|    abstract shorts i...|\n",
      "|  8|abstract ties in ...|    abstract ties in ...|\n",
      "|  9|aai occaseeon fla...|    acai occasion fla...|\n",
      "| 10|adamo timwaar & e...|    adamo timewear ey...|\n",
      "| 11|adidas footeewear...|    adidas footwear f...|\n",
      "| 12| adobe tshirts or me|    adobe tshirts or men|\n",
      "| 13|     afast lighnting|         afast lightning|\n",
      "| 14|air garb tshirts ...|    air garb tshirt f...|\n",
      "| 15|airforce blae cot...|    airforce blue cot...|\n",
      "| 16|aj dezines kurta sts|    aj dezines kurta set|\n",
      "| 17|     aks keads kurts|          aks kids kurta|\n",
      "| 18|        uldo footwer|           aldo footwear|\n",
      "| 19|            altavens|                 altiven|\n",
      "+---+--------------------+------------------------+\n",
      "only showing top 20 rows\n",
      "\n"
     ]
    }
   ],
   "source": [
    "df_tq.show()"
   ]
  },
  {
   "cell_type": "code",
   "execution_count": 62,
   "id": "cf0ebb3d-a7d4-4e41-9350-0d73ab6fad92",
   "metadata": {},
   "outputs": [
    {
     "data": {
      "text/plain": [
       "df_tq: org.apache.spark.sql.DataFrame = [corrected_query_word_seg: string, query: string ... 1 more field]\n"
      ]
     },
     "execution_count": 62,
     "metadata": {},
     "output_type": "execute_result"
    }
   ],
   "source": [
    "df_tq = df_tq.join(original_df,df_tq(\"query\")===original_df(\"mistake_queries\"),\"inner\").drop(\"_c0\").drop(df_tq(\"query\"))"
   ]
  },
  {
   "cell_type": "code",
   "execution_count": 63,
   "id": "f7f023fc-188c-4510-9da9-e79016567e26",
   "metadata": {},
   "outputs": [
    {
     "name": "stdout",
     "output_type": "stream",
     "text": [
      "+------------------------+--------------------+--------------------+\n",
      "|corrected_query_word_seg|               query|     mistake_queries|\n",
      "+------------------------+--------------------+--------------------+\n",
      "|       satchels handbags|   satchels handbags|   satchels jandbags|\n",
      "|    ali dresses in ki...|a-line dresses in...|a-lii dresses in ...|\n",
      "|    abstract ties in ...|abstract ties in ...|abstract ties in ...|\n",
      "|    airforce blue cot...|airforce blue cot...|airforce blae cot...|\n",
      "|    aj dezines kurta set|aj dezines kurta ...|aj dezines kurta sts|\n",
      "|           aldo footwear|       aldo footwear|        uldo footwer|\n",
      "|      anouk western wear|  amous western wear|   amous wstern woar|\n",
      "|        anise star girls|    anise-star girls|   anise-qstar girls|\n",
      "|    aqua green tops f...|aqua green tops f...|aqua graentops fo...|\n",
      "|          assembly women|      assembly women|       essembly woen|\n",
      "|               flax vest|       athflex vests|        thflax vests|\n",
      "|     tec series or women|aztec sarees for ...|ztec sarees or women|\n",
      "|            bata sandals|        bata sandals|          bata andas|\n",
      "|    beats red casual bra|beet red casual bras|beat red casual b...|\n",
      "|       beige not shapers| beige net shapewear|  beige net shapewir|\n",
      "|    beige textured bl...|beige textured bl...|beige tedxtured b...|\n",
      "|        black dial watch|  black dual watches|  black dual watkhes|\n",
      "|     black flared skirts| black flared skirts|gblack flared skirts|\n",
      "|    black shirt in cl...|black shirts in c...|black shirts in c...|\n",
      "|    black stylised jeans|black stylised jeans| black stylased jean|\n",
      "+------------------------+--------------------+--------------------+\n",
      "only showing top 20 rows\n",
      "\n"
     ]
    }
   ],
   "source": [
    "df_tq.show()"
   ]
  },
  {
   "cell_type": "code",
   "execution_count": 64,
   "id": "5312f59a-98c7-48ff-aa00-d3f4565d840d",
   "metadata": {},
   "outputs": [
    {
     "data": {
      "text/plain": [
       "df_tq: org.apache.spark.sql.DataFrame = [corrected_query_word_seg: string, query: string ... 2 more fields]\n"
      ]
     },
     "execution_count": 64,
     "metadata": {},
     "output_type": "execute_result"
    }
   ],
   "source": [
    "df_tq = df_tq.withColumn(\"mistake_distance\",levenshtein(col(\"query\"),col(\"mistake_queries\")))"
   ]
  },
  {
   "cell_type": "code",
   "execution_count": 65,
   "id": "0d7071bd-2f1f-43b5-b053-baa4749909a0",
   "metadata": {},
   "outputs": [
    {
     "data": {
      "text/plain": [
       "df_tq: org.apache.spark.sql.DataFrame = [corrected_query_word_seg: string, query: string ... 3 more fields]\n"
      ]
     },
     "execution_count": 65,
     "metadata": {},
     "output_type": "execute_result"
    }
   ],
   "source": [
    "df_tq = df_tq.withColumn(\"correction_distance\",levenshtein(col(\"query\"),col(\"corrected_query_word_seg\")))"
   ]
  },
  {
   "cell_type": "code",
   "execution_count": 66,
   "id": "d7fda84c-f879-4df0-8eee-46b6453118ff",
   "metadata": {},
   "outputs": [
    {
     "data": {
      "text/plain": [
       "df_tq: org.apache.spark.sql.DataFrame = [corrected_query_word_seg: string, query: string ... 3 more fields]\n"
      ]
     },
     "execution_count": 66,
     "metadata": {},
     "output_type": "execute_result"
    }
   ],
   "source": [
    "df_tq =df_tq.filter(col(\"correction_distance\") > 4)"
   ]
  },
  {
   "cell_type": "code",
   "execution_count": 68,
   "id": "87c64e69-2afb-4149-b03f-cbfde0aa791a",
   "metadata": {},
   "outputs": [
    {
     "name": "stdout",
     "output_type": "stream",
     "text": [
      "+---------------------------+-------------------------+--------------------------+----------------+-------------------+\n",
      "|corrected_query_word_seg   |query                    |mistake_queries           |mistake_distance|correction_distance|\n",
      "+---------------------------+-------------------------+--------------------------+----------------+-------------------+\n",
      "|ali dresses in kimayra     |a-line dresses in komarri|a-lii dresses in komarri  |2               |6                  |\n",
      "|flax vest                  |athflex vests            |thflax vests              |2               |5                  |\n",
      "|tec series or women        |aztec sarees for women   |ztec sarees or women      |2               |5                  |\n",
      "|beige not shapers          |beige net shapewear      |beige net shapewir        |2               |5                  |\n",
      "|blue summer in monrow      |blue sneakers in monrow  |bluesneaers in monrow     |2               |5                  |\n",
      "|removal co ord sets        |cream novelty co-ord sets|reamnovelty co-ord sets   |2               |8                  |\n",
      "|eu idli flat shoes         |eego italy flat shoes    |eeo itly flat shoes       |2               |6                  |\n",
      "|fit tshirt or women        |fitted tshirts for women |fitte tshirts or women    |2               |5                  |\n",
      "|lit ac polo tshirt         |lt.peach polo tshirts    |lt.eac polo tshirts       |2               |6                  |\n",
      "|maroon stripe kurtasuitsets|maroon stripes suit sets |maroon stripe suitsets    |2               |7                  |\n",
      "|mush wear accessories      |mush clothing accessories|myush clothing accessories|1               |8                  |\n",
      "|novelty bras in women yoke |novelty bras in lady lyka|novelty bras in lady yke  |2               |8                  |\n",
      "|rods arts allan peter      |red kurtas in allan peter|red urtasin allan peter   |2               |8                  |\n",
      "|rods pots in h m           |red tops in h&m          |red pots in h&m           |2               |5                  |\n",
      "|solid top in manipuri      |solid tops in manuprink  |solid taps in manuprnk    |2               |5                  |\n",
      "|toy burch shawls shawls    |tory burch shawls & wraps|toy burch shawls  wraps   |2               |7                  |\n",
      "|vented moda shirt          |vestido modas shirts     |veteado modas shirts      |3               |5                  |\n",
      "|white capshats cups hts    |white hats caps & hats   |white hats cups & hts     |2               |8                  |\n",
      "|women cotton ethnic kurtas |women cotton indian kurta|women cottopn indian kurta|1               |7                  |\n",
      "|yellow top ina fusion      |yellow tops in ak fashion|yellow tops inak fashioon |2               |5                  |\n",
      "+---------------------------+-------------------------+--------------------------+----------------+-------------------+\n",
      "only showing top 20 rows\n",
      "\n"
     ]
    }
   ],
   "source": [
    "df_tq.show(false)"
   ]
  },
  {
   "cell_type": "code",
   "execution_count": 52,
   "id": "bb6983c0-26ad-43ce-9776-8a72f782e4b0",
   "metadata": {},
   "outputs": [
    {
     "name": "stdout",
     "output_type": "stream",
     "text": [
      "root\n",
      " |-- corrected_query_word_seg: string (nullable = true)\n",
      " |-- query: string (nullable = true)\n",
      " |-- mistake_queries: string (nullable = true)\n",
      " |-- mistake_distance: integer (nullable = true)\n",
      " |-- correction_distance: integer (nullable = true)\n",
      "\n"
     ]
    }
   ],
   "source": [
    "df_tq.printSchema()"
   ]
  },
  {
   "cell_type": "code",
   "execution_count": 53,
   "id": "b5a49c08-c865-4b88-bb31-86b540328e26",
   "metadata": {},
   "outputs": [
    {
     "name": "stdout",
     "output_type": "stream",
     "text": [
      "+------------------------+\n",
      "|avg(correction_distance)|\n",
      "+------------------------+\n",
      "|      1.8940520446096654|\n",
      "+------------------------+\n",
      "\n"
     ]
    }
   ],
   "source": [
    "df_tq.select(avg(\"correction_distance\")).show()"
   ]
  },
  {
   "cell_type": "code",
   "execution_count": 54,
   "id": "acfa88fd-d304-4360-a16c-84275d1993d0",
   "metadata": {},
   "outputs": [
    {
     "name": "stdout",
     "output_type": "stream",
     "text": [
      "+---------------------+\n",
      "|avg(mistake_distance)|\n",
      "+---------------------+\n",
      "|   1.8197026022304832|\n",
      "+---------------------+\n",
      "\n"
     ]
    }
   ],
   "source": [
    "df_tq.select(avg(\"mistake_distance\")).show()"
   ]
  },
  {
   "cell_type": "code",
   "execution_count": 56,
   "id": "85e7b146-1c8e-4e54-949f-1ebe93d6bdca",
   "metadata": {},
   "outputs": [
    {
     "name": "stdout",
     "output_type": "stream",
     "text": [
      "+-------+-------------------+\n",
      "|summary|correction_distance|\n",
      "+-------+-------------------+\n",
      "|  count|                538|\n",
      "|   mean| 1.8940520446096654|\n",
      "| stddev| 1.9552540908204048|\n",
      "|    min|                  0|\n",
      "|    max|                  9|\n",
      "+-------+-------------------+\n",
      "\n"
     ]
    }
   ],
   "source": [
    "df_tq.select(\"correction_distance\").describe().show()"
   ]
  },
  {
   "cell_type": "code",
   "execution_count": null,
   "id": "3ad1e46a-7811-4862-8b42-52202fa54512",
   "metadata": {},
   "outputs": [],
   "source": []
  }
 ],
 "metadata": {
  "kernelspec": {
   "display_name": "spark",
   "language": "scala",
   "name": "spylon-kernel"
  },
  "language_info": {
   "codemirror_mode": "text/x-scala",
   "file_extension": ".scala",
   "help_links": [
    {
     "text": "MetaKernel Magics",
     "url": "https://metakernel.readthedocs.io/en/latest/source/README.html"
    }
   ],
   "mimetype": "text/x-scala",
   "name": "scala",
   "pygments_lexer": "scala",
   "version": "0.4.1"
  },
  "widgets": {
   "application/vnd.jupyter.widget-state+json": {
    "state": {},
    "version_major": 2,
    "version_minor": 0
   }
  }
 },
 "nbformat": 4,
 "nbformat_minor": 5
}
