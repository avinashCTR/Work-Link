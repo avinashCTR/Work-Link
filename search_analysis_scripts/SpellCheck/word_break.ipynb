{
 "cells": [
  {
   "cell_type": "code",
   "execution_count": 1,
   "id": "5e85e728-84f4-44ea-a34b-1d9c1b51e4ef",
   "metadata": {},
   "outputs": [],
   "source": [
    "%%init_spark\n",
    "launcher.jars = [\"/app/setup/commons.jar\"]\n",
    "launcher.conf.spark.app.name = \"tej_scratch_3\"\n",
    "launcher.conf.spark.local.dir = \"/data/tmp/spark\" \n",
    "launcher.conf.spark.sql.shuffle.partitions = 200  \n",
    "launcher.conf.spark.sql.shuffle.minPartitions = 20 \n",
    "launcher.conf.spark.driver.memory = \"8g\" \n",
    "launcher.conf.spark.executor.memory = \"3g\" \n",
    "launcher.conf.spark.ui.showConsoleProgress = \"true\"\n",
    "launcher.master = \"local[5]\""
   ]
  },
  {
   "cell_type": "code",
   "execution_count": 2,
   "id": "b4bffaba-9f2e-4585-acbc-4f14811122d9",
   "metadata": {},
   "outputs": [
    {
     "data": {
      "text/plain": [
       "Intitializing Scala interpreter ..."
      ]
     },
     "metadata": {},
     "output_type": "display_data"
    },
    {
     "data": {
      "text/plain": [
       "Spark Web UI available at http://10.166.181.219:4050\n",
       "SparkContext available as 'sc' (version = 3.3.0, master = local[5], app id = local-1739186214684)\n",
       "SparkSession available as 'spark'\n"
      ]
     },
     "metadata": {},
     "output_type": "display_data"
    },
    {
     "data": {
      "text/plain": [
       "df_tq: org.apache.spark.sql.DataFrame = [query: array<string>, query_template: array<string> ... 6 more fields]\n"
      ]
     },
     "execution_count": 2,
     "metadata": {},
     "output_type": "execute_result"
    }
   ],
   "source": [
    "var df_tq = spark.read.parquet(\"/data1/searchengine/EmbeddingTrainingDataCuration/ajio/09122024/V2/TemplatedQueries\")"
   ]
  },
  {
   "cell_type": "code",
   "execution_count": 3,
   "id": "ff55c8b8-33ea-4283-b36b-b1a9f8bcc045",
   "metadata": {},
   "outputs": [
    {
     "name": "stdout",
     "output_type": "stream",
     "text": [
      "+--------------------+--------------------+------------------+--------------------+-------------------------+-------------------------+-------------+----------+\n",
      "|               query|      query_template|template_frequency|        product_code|l1l2category_en_string_mv|l1l3category_en_string_mv|product_count|is_synonym|\n",
      "+--------------------+--------------------+------------------+--------------------+-------------------------+-------------------------+-------------+----------+\n",
      "|[, embellished, s...|[brickprimarycolo...|              1221|[q61d, q61q, q61g...|     [{9, Women - Ethn...|     [{9, Women - Sare...|            9|        no|\n",
      "|[, satchels, hand...|[brickprimarycolo...|              1269|        [1a19, 1a18]|     [{2, Women - Bags...|     [{2, Women - Hand...|            2|        no|\n",
      "|[, scarves, for, ...|[brickprimarycolo...|              4135|[18a8, 18a4, 18a9...|     [{8, Men - Clothi...|     [{8, Men - Scarves}]|            8|        no|\n",
      "|[ american diamon...|      [name_text_en]|               100|[8536, 84z9, 84xu...|     [{6, Women - Fash...|     [{6, Women - Fash...|            6|        no|\n",
      "|[ chunky heeled s...|      [name_text_en]|               100|        [e4xc, e4xd]|     [{2, Women - Foot...|     [{2, Women - Heel...|            2|        no|\n",
      "|[ double bed fold...|      [name_text_en]|               100|        [8yqc, 8yqb]|     [{2, Home & Kitch...|     [{2, Home & Kitch...|            2|        no|\n",
      "|[ floral printed ...|      [name_text_en]|               100|        [bsu9, bsu7]|     [{2, Women - Ethn...|     [{2, Women - Sare...|            2|        no|\n",
      "|[ henley t-shirt ...|      [name_text_en]|               100|[epex, epez, epev...|     [{4, Women - West...|     [{4, Women - Tshi...|            4|        no|\n",
      "|[ set of 3 abstra...|      [name_text_en]|               100|        [86de, 86dn]|     [{2, Home & Kitch...|     [{2, Home & Kitch...|            2|        no|\n",
      "|[ women printed 2...|      [name_text_en]|               100|        [z2vz, z2vu]|     [{2, Women - Ethn...|     [{2, Women - Co-o...|            2|        no|\n",
      "|   [&circus, briefs]|[brand_string_mv,...|             28032|[o7zk, wxhx, q24i...|     [{17, Men - Inner...|     [{17, Men - Briefs}]|           17|        no|\n",
      "|['malie, western ...|[brand_string_mv,...|               928|[9fat, 8jw8, 8ee4...|     [{24, Women - Wes...|     [{11, Women - Dre...|           24|        no|\n",
      "|[02 pink, lips, f...|[brickprimarycolo...|              4135|        [vfe0, v1iy]|     [{2, Women - Make...|      [{2, Women - Lips}]|            2|        no|\n",
      "|[021-black, short...|[brickprimarycolo...|               747|[14sfu, 14sfl, 14...|     [{3, Women - West...|      [{3, Women - Tops}]|            3|        no|\n",
      "|[10 piece glass c...|      [name_text_en]|               100|      [18bfj, 18bel]|     [{2, Home & Kitch...|     [{2, Home & Kitch...|            2|        no|\n",
      "|[130 gsm geometri...|      [name_text_en]|               100|[it2x, it3a, it2v...|     [{7, Home & Kitch...|     [{7, Home & Kitch...|            7|        no|\n",
      "|[144 tc floral pr...|      [name_text_en]|               100|[z7lj, k4ew, hx6g...|     [{100, Home & Kit...|     [{100, Home & Kit...|          100|        no|\n",
      "|[144 tc striped k...|      [name_text_en]|               100|        [pd6s, pd54]|     [{2, Home & Kitch...|     [{2, Home & Kitch...|            2|        no|\n",
      "|[15.6\" laptop mes...|      [name_text_en]|               100|[rsbv, rsbr, rsbw...|     [{16, Men - Bags,...|     [{16, Men - Lapto...|           16|        no|\n",
      "|[150 gsm king bed...|      [name_text_en]|               100|[19p8x, 19p98, 19...|     [{13, Home & Kitc...|     [{13, Home & Kitc...|           13|        no|\n",
      "+--------------------+--------------------+------------------+--------------------+-------------------------+-------------------------+-------------+----------+\n",
      "only showing top 20 rows\n",
      "\n"
     ]
    }
   ],
   "source": [
    "df_tq.show()"
   ]
  },
  {
   "cell_type": "code",
   "execution_count": 4,
   "id": "a8f4e39b-d691-43d1-b440-1afa63d0a670",
   "metadata": {},
   "outputs": [
    {
     "data": {
      "text/plain": [
       "df_tq: org.apache.spark.sql.DataFrame = [query: array<string>]\n"
      ]
     },
     "execution_count": 4,
     "metadata": {},
     "output_type": "execute_result"
    }
   ],
   "source": [
    "df_tq = df_tq.select(\"query\")"
   ]
  },
  {
   "cell_type": "code",
   "execution_count": 5,
   "id": "07baa632-13c8-432f-8963-56b1cfc8698d",
   "metadata": {},
   "outputs": [
    {
     "name": "stdout",
     "output_type": "stream",
     "text": [
      "+--------------------+\n",
      "|               query|\n",
      "+--------------------+\n",
      "|[, embellished, s...|\n",
      "|[, satchels, hand...|\n",
      "|[, scarves, for, ...|\n",
      "|[ american diamon...|\n",
      "|[ chunky heeled s...|\n",
      "|[ double bed fold...|\n",
      "|[ floral printed ...|\n",
      "|[ henley t-shirt ...|\n",
      "|[ set of 3 abstra...|\n",
      "|[ women printed 2...|\n",
      "|   [&circus, briefs]|\n",
      "|['malie, western ...|\n",
      "|[02 pink, lips, f...|\n",
      "|[021-black, short...|\n",
      "|[10 piece glass c...|\n",
      "|[130 gsm geometri...|\n",
      "|[144 tc floral pr...|\n",
      "|[144 tc striped k...|\n",
      "|[15.6\" laptop mes...|\n",
      "|[150 gsm king bed...|\n",
      "+--------------------+\n",
      "only showing top 20 rows\n",
      "\n"
     ]
    }
   ],
   "source": [
    "df_tq.show()"
   ]
  },
  {
   "cell_type": "code",
   "execution_count": 6,
   "id": "9ced4647-5913-42e5-9347-77cd21df7e91",
   "metadata": {},
   "outputs": [
    {
     "data": {
      "text/plain": [
       "import scala.util.Random\n",
       "rand: scala.util.Random = scala.util.Random@2bbcd2ec\n",
       "add_space: (query_list: List[String])List[String]\n",
       "add_space_udf: org.apache.spark.sql.expressions.UserDefinedFunction = SparkUserDefinedFunction($Lambda$3931/437562393@1f836084,ArrayType(StringType,true),List(Some(class[value[0]: array<string>])),Some(class[value[0]: array<string>]),None,true,true)\n"
      ]
     },
     "execution_count": 6,
     "metadata": {},
     "output_type": "execute_result"
    }
   ],
   "source": [
    "import scala.util.Random\n",
    "\n",
    "var rand = new Random()\n",
    "\n",
    "def add_space(query_list:List[String])={\n",
    "    if(query_list.length>0){\n",
    "    var index = rand.nextInt(query_list.length)\n",
    "        if(query_list(index).length>0){\n",
    "            var index_of_string = rand.nextInt(query_list(index).length)\n",
    "            var new_string = query_list(index).substring(0,index_of_string)+\" \"+query_list(index).substring(index_of_string)\n",
    "            var new_query_list = query_list.updated(index,new_string)\n",
    "        new_query_list\n",
    "        }else{\n",
    "            query_list\n",
    "        }\n",
    "    }else{\n",
    "        query_list\n",
    "    }\n",
    "}\n",
    "\n",
    "var add_space_udf = udf(add_space _)"
   ]
  },
  {
   "cell_type": "code",
   "execution_count": 7,
   "id": "48ba9aa9-d19e-4400-9152-d35ca05c8296",
   "metadata": {},
   "outputs": [
    {
     "name": "stdout",
     "output_type": "stream",
     "text": [
      "root\n",
      " |-- query: array (nullable = true)\n",
      " |    |-- element: string (containsNull = true)\n",
      "\n"
     ]
    }
   ],
   "source": [
    "df_tq.printSchema()"
   ]
  },
  {
   "cell_type": "code",
   "execution_count": 8,
   "id": "cb197046-2df2-4915-a6ed-fcdbb960d8fe",
   "metadata": {},
   "outputs": [
    {
     "data": {
      "text/plain": [
       "df_tq: org.apache.spark.sql.DataFrame = [query: array<string>, bad_queries: array<string>]\n"
      ]
     },
     "execution_count": 8,
     "metadata": {},
     "output_type": "execute_result"
    }
   ],
   "source": [
    "df_tq = df_tq.withColumn(\"bad_queries\",add_space_udf(col(\"query\")))"
   ]
  },
  {
   "cell_type": "code",
   "execution_count": 9,
   "id": "cedc0e96-a309-4207-bb56-80ea868362c8",
   "metadata": {},
   "outputs": [
    {
     "name": "stdout",
     "output_type": "stream",
     "text": [
      "root\n",
      " |-- query: array (nullable = true)\n",
      " |    |-- element: string (containsNull = true)\n",
      " |-- bad_queries: array (nullable = true)\n",
      " |    |-- element: string (containsNull = true)\n",
      "\n"
     ]
    }
   ],
   "source": [
    "df_tq.printSchema()"
   ]
  },
  {
   "cell_type": "code",
   "execution_count": 10,
   "id": "47f79fd6-9385-43c5-a6e5-8b0a85f3b00a",
   "metadata": {},
   "outputs": [
    {
     "data": {
      "text/plain": [
       "df_tq: org.apache.spark.sql.DataFrame = [query: string, bad_queries: string]\n"
      ]
     },
     "execution_count": 10,
     "metadata": {},
     "output_type": "execute_result"
    }
   ],
   "source": [
    "df_tq = df_tq.withColumn(\"query\",concat_ws(\" \",col(\"query\"))).withColumn(\"bad_queries\",concat_ws(\" \",col(\"bad_queries\")))"
   ]
  },
  {
   "cell_type": "code",
   "execution_count": 11,
   "id": "dba3832b-13b4-4997-9963-c78b513719c4",
   "metadata": {},
   "outputs": [
    {
     "data": {
      "text/plain": [
       "df_tq: org.apache.spark.sql.DataFrame = [query: string, bad_queries: string]\n",
       "df_tq: org.apache.spark.sql.DataFrame = [query: string, bad_queries: string]\n"
      ]
     },
     "execution_count": 11,
     "metadata": {},
     "output_type": "execute_result"
    }
   ],
   "source": [
    "df_tq = df_tq.filter(length(col(\"query\")) <=25 )\n",
    "df_tq =df_tq.sample(fraction=0.5).limit(2000)"
   ]
  },
  {
   "cell_type": "code",
   "execution_count": 12,
   "id": "d2b3dd16-57df-4fec-abc0-e56b13f79300",
   "metadata": {},
   "outputs": [
    {
     "data": {
      "text/plain": [
       "res4: Long = 2000\n"
      ]
     },
     "execution_count": 12,
     "metadata": {},
     "output_type": "execute_result"
    }
   ],
   "source": [
    "df_tq.count()"
   ]
  },
  {
   "cell_type": "code",
   "execution_count": 14,
   "id": "652a8bce-4f36-4759-b915-edf79b2f9b47",
   "metadata": {},
   "outputs": [
    {
     "name": "stdout",
     "output_type": "stream",
     "text": [
      "+-------------------------+--------------------------+\n",
      "|query                    |bad_queries               |\n",
      "+-------------------------+--------------------------+\n",
      "| embellished sarees      | e mbellished sarees      |\n",
      "|&circus briefs           |&circus  briefs           |\n",
      "|1g yellow gold om coin   |1g yellow  gold om coin   |\n",
      "|574 lace-up casual shoes |574 lace-up casual sh oes |\n",
      "|612 league casual tops   |612 league casual t ops   |\n",
      "|a-line dresses in komarri|a-line dresses  in komarri|\n",
      "|abdesigns                | abdesigns                |\n",
      "|abstract shirts in kotty |abstract shir ts in kotty |\n",
      "|abstract ties in cazzano |abstract ties in cazza no |\n",
      "|acai occasion flat shoes |acai occasi on flat shoes |\n",
      "|adamo timewear & eyewear |adamo timewear & eyew ear |\n",
      "|adidas footwear for women|adidas footwear  for women|\n",
      "|adobe tshirts for men    |adobe t shirts for men    |\n",
      "|air garb tshirts for men |air garb tshir ts for men |\n",
      "|airforce blue cotton sets|airforce blue cotton se ts|\n",
      "|aj dezines kurta sets    |aj dezines ku rta sets    |\n",
      "|aks kids kurtas          |aks kids k urtas          |\n",
      "|aldo footwear            |aldo  footwear            |\n",
      "|amari west women         |amari west wo men         |\n",
      "|american eye western wear|american eye western we ar|\n",
      "+-------------------------+--------------------------+\n",
      "only showing top 20 rows\n",
      "\n"
     ]
    }
   ],
   "source": [
    "df_tq.show(false)"
   ]
  },
  {
   "cell_type": "code",
   "execution_count": 15,
   "id": "b308a5b1-58bc-43a0-b037-6255e5dfaf4a",
   "metadata": {},
   "outputs": [],
   "source": [
    "df_tq.write.option(\"header\",true).parquet(\"file:////app/notebooks/avinash/SpellCheck-test-data/word_break_test_data.csv\")"
   ]
  },
  {
   "cell_type": "code",
   "execution_count": 16,
   "id": "4ac83d2d-5330-48b5-bc82-60c849c70680",
   "metadata": {},
   "outputs": [],
   "source": [
    "// saving to hdfs\n",
    "df_tq.write.option(\"header\",true).csv(\"/data1/archive/avinash/SearchTests/TestData/SpellCheck/word_break_test_data.csv\")"
   ]
  },
  {
   "cell_type": "code",
   "execution_count": null,
   "id": "e5a0bce9-e327-4037-b2f9-6e0fd886ed69",
   "metadata": {},
   "outputs": [],
   "source": []
  }
 ],
 "metadata": {
  "kernelspec": {
   "display_name": "spark",
   "language": "scala",
   "name": "spylon-kernel"
  },
  "language_info": {
   "codemirror_mode": "text/x-scala",
   "file_extension": ".scala",
   "help_links": [
    {
     "text": "MetaKernel Magics",
     "url": "https://metakernel.readthedocs.io/en/latest/source/README.html"
    }
   ],
   "mimetype": "text/x-scala",
   "name": "scala",
   "pygments_lexer": "scala",
   "version": "0.4.1"
  },
  "widgets": {
   "application/vnd.jupyter.widget-state+json": {
    "state": {},
    "version_major": 2,
    "version_minor": 0
   }
  }
 },
 "nbformat": 4,
 "nbformat_minor": 5
}
