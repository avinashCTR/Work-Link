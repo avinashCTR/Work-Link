{
 "cells": [
  {
   "cell_type": "code",
   "execution_count": 1,
   "id": "91fde45e-9705-48e7-885d-03c708374cab",
   "metadata": {
    "tags": []
   },
   "outputs": [],
   "source": [
    "%%init_spark\n",
    "launcher.conf.spark.app.name = \"archita_spark3\"\n",
    "launcher.conf.spark.local.dir = \"/data/tmp/spark\"\n",
    "launcher.conf.spark.driver.memory = \"100g\"\n",
    "launcher.conf.spark.executor.memory = \"50g\"\n",
    "launcher.conf.spark.executors = \"21\"\n",
    "launcher.conf.spark.executor.cores = \"21\"\n",
    "launcher.conf.spark.sql.shuffle.partitions = 210\n",
    "launcher.conf.spark.sql.shuffle.minPartitions = 20\n",
    "launcher.conf.spark.ui.showConsoleProgress = \"true\"\n",
    "launcher.conf.spark.yarn.keytab = \"/home/jioapp/aditya/jiomart_cluster/couture.keytab\"\n",
    "launcher.conf.spark.yarn.principal = \"couture@COUTURE.AI\"\n",
    "launcher.conf.spark.driver.extraJavaOptions = \"-Djava.security.krb5.conf=/home/jioapp/aditya/jiomart_cluster/krb5.conf\"\n",
    "launcher.conf.spark.executor.extraJavaOptions = \"-Djava.security.krb5.conf=/home/jioapp/aditya/jiomart_cluster/krb5.conf\""
   ]
  },
  {
   "cell_type": "code",
   "execution_count": 2,
   "id": "7e95e539-2880-4fcb-913f-569227d0c4a8",
   "metadata": {},
   "outputs": [
    {
     "data": {
      "text/plain": [
       "Intitializing Scala interpreter ..."
      ]
     },
     "metadata": {},
     "output_type": "display_data"
    },
    {
     "data": {
      "text/plain": [
       "Spark Web UI available at http://10.166.181.219:4044\n",
       "SparkContext available as 'sc' (version = 3.3.0, master = local[*], app id = local-1738923351127)\n",
       "SparkSession available as 'spark'\n"
      ]
     },
     "metadata": {},
     "output_type": "display_data"
    },
    {
     "data": {
      "text/plain": [
       "df_tq: org.apache.spark.sql.DataFrame = [query: string, response: string]\n"
      ]
     },
     "execution_count": 2,
     "metadata": {},
     "output_type": "execute_result"
    }
   ],
   "source": [
    "var df_tq = spark.read.parquet(\"hdfs://10.144.96.170:8020/data1/searchengine/genai_search/ajio/redis_cache/qdrant_api_response_cache_replica\")"
   ]
  },
  {
   "cell_type": "code",
   "execution_count": 3,
   "id": "f709b8ab-f052-4366-a2f4-6d7fd88a57a0",
   "metadata": {},
   "outputs": [
    {
     "name": "stdout",
     "output_type": "stream",
     "text": [
      "root\n",
      " |-- query: string (nullable = true)\n",
      " |-- response: string (nullable = true)\n",
      "\n"
     ]
    }
   ],
   "source": [
    "df_tq.printSchema()"
   ]
  },
  {
   "cell_type": "code",
   "execution_count": 4,
   "id": "92190f98-bc59-44fa-8925-07773a0fea90",
   "metadata": {},
   "outputs": [
    {
     "name": "stdout",
     "output_type": "stream",
     "text": [
      "+--------------------+--------------------+\n",
      "|               query|            response|\n",
      "+--------------------+--------------------+\n",
      "|              shirts|{\"point_ids\":[\"ff...|\n",
      "|                tops|{\"point_ids\":[\"8b...|\n",
      "|             dresses|{\"point_ids\":[\"21...|\n",
      "|             tshirts|{\"point_ids\":[\"a6...|\n",
      "|               shoes|{\"point_ids\":[\"d1...|\n",
      "|    jeans & jeggings|{\"point_ids\":[\"12...|\n",
      "|               crocs|{\"point_ids\":[\"c3...|\n",
      "|              kurtis|{\"point_ids\":[\"48...|\n",
      "|               jeans|{\"point_ids\":[\"83...|\n",
      "|womens kurtas and...|{\"point_ids\":[\"9e...|\n",
      "|       shoes for men|{\"point_ids\":[\"4c...|\n",
      "|               saree|{\"point_ids\":[\"54...|\n",
      "|winter jackets fo...|{\"point_ids\":[\"f6...|\n",
      "|               shirt|{\"point_ids\":[\"7b...|\n",
      "|              jacket|{\"point_ids\":[\"e4...|\n",
      "|              kurtas|{\"point_ids\":[\"2e...|\n",
      "|            sneakers|{\"point_ids\":[\"8e...|\n",
      "|     shoes for women|{\"point_ids\":[\"d4...|\n",
      "|  lehenga choli sets|{\"point_ids\":[\"7e...|\n",
      "|winter jackets fo...|{\"point_ids\":[\"4c...|\n",
      "+--------------------+--------------------+\n",
      "only showing top 20 rows\n",
      "\n"
     ]
    }
   ],
   "source": [
    "df_tq.show()"
   ]
  },
  {
   "cell_type": "code",
   "execution_count": 1,
   "id": "acfc9616-45be-4df7-84bb-a722e618b4a5",
   "metadata": {},
   "outputs": [
    {
     "data": {
      "text/plain": [
       "Intitializing Scala interpreter ..."
      ]
     },
     "metadata": {},
     "output_type": "display_data"
    },
    {
     "data": {
      "text/plain": [
       "Spark Web UI available at http://10.166.181.219:4041\n",
       "SparkContext available as 'sc' (version = 3.3.0, master = local[*], app id = local-1746509629558)\n",
       "SparkSession available as 'spark'\n"
      ]
     },
     "metadata": {},
     "output_type": "display_data"
    },
    {
     "ename": "<console>",
     "evalue": "23: error: not found: value df_tq",
     "output_type": "error",
     "traceback": [
      "<console>:23: error: not found: value df_tq",
      "       var df_tq_empty = df_tq.filter(col(\"response\").rlike(\"\"\"\\{\\s*\"point_ids\"\\s*:\\s*\\[\\s*\\]\"\"\"))",
      "                         ^",
      ""
     ]
    }
   ],
   "source": [
    "var df_tq_empty = df_tq.filter(col(\"response\").rlike(\"\"\"\\{\\s*\"point_ids\"\\s*:\\s*\\[\\s*\\]\"\"\"))"
   ]
  },
  {
   "cell_type": "code",
   "execution_count": 6,
   "id": "36804a90-58eb-43b6-aa5a-6a359627e727",
   "metadata": {
    "tags": []
   },
   "outputs": [
    {
     "name": "stdout",
     "output_type": "stream",
     "text": [
      "+--------------------+--------------------+\n",
      "|               query|            response|\n",
      "+--------------------+--------------------+\n",
      "|    co ord set women|{\"point_ids\":[],\"...|\n",
      "|                 hrx|{\"point_ids\":[],\"...|\n",
      "|              mirror|{\"point_ids\":[],\"...|\n",
      "|                   l|{\"point_ids\":[],\"...|\n",
      "|                jins|{\"point_ids\":[],\"...|\n",
      "|   charles and keith|{\"point_ids\":[],\"...|\n",
      "|             bonkers|{\"point_ids\":[],\"...|\n",
      "| house of chikankari|{\"point_ids\":[],\"...|\n",
      "|               cosrx|{\"point_ids\":[],\"...|\n",
      "|           coach bag|{\"point_ids\":[],\"...|\n",
      "|                   p|{\"point_ids\":[],\"...|\n",
      "|             h and m|{\"point_ids\":[],\"...|\n",
      "|                buds|{\"point_ids\":[],\"...|\n",
      "|           rio basic|{\"point_ids\":[],\"...|\n",
      "|     saree for girls|{\"point_ids\":[],\"...|\n",
      "|         banana club|{\"point_ids\":[],\"...|\n",
      "|starting from rs 599|{\"point_ids\":[],\"...|\n",
      "|              nobero|{\"point_ids\":[],\"...|\n",
      "|               seiko|{\"point_ids\":[],\"...|\n",
      "|   cod set for women|{\"point_ids\":[],\"...|\n",
      "+--------------------+--------------------+\n",
      "only showing top 20 rows\n",
      "\n"
     ]
    }
   ],
   "source": [
    "df_tq_empty.show()"
   ]
  },
  {
   "cell_type": "code",
   "execution_count": 7,
   "id": "01b591b3-0ac5-4590-9b5f-9971cc24b5c1",
   "metadata": {},
   "outputs": [
    {
     "data": {
      "text/plain": [
       "res3: Long = 122\n"
      ]
     },
     "execution_count": 7,
     "metadata": {},
     "output_type": "execute_result"
    }
   ],
   "source": [
    "df_tq_empty.count()"
   ]
  },
  {
   "cell_type": "code",
   "execution_count": 8,
   "id": "5e337b47-15ae-4cfa-b102-0069c693b87b",
   "metadata": {},
   "outputs": [
    {
     "data": {
      "text/plain": [
       "res4: Long = 5000\n"
      ]
     },
     "execution_count": 8,
     "metadata": {},
     "output_type": "execute_result"
    }
   ],
   "source": [
    "df_tq.count()"
   ]
  },
  {
   "cell_type": "code",
   "execution_count": 11,
   "id": "d1652a7e-88bc-4cf8-a538-bb45fe54c390",
   "metadata": {
    "tags": []
   },
   "outputs": [],
   "source": [
    "df_tq.write.option(\"header\",true).parquet(\"hdfs://10.144.96.170:8020/data1/archive/avinash/SearchTests/TestData/zsr/empty_res_queries.parquet\")"
   ]
  },
  {
   "cell_type": "code",
   "execution_count": null,
   "id": "2854a4fe-f937-47d3-b65d-a04403bc53e3",
   "metadata": {},
   "outputs": [],
   "source": []
  }
 ],
 "metadata": {
  "kernelspec": {
   "display_name": "spark",
   "language": "scala",
   "name": "spylon-kernel"
  },
  "language_info": {
   "codemirror_mode": "text/x-scala",
   "file_extension": ".scala",
   "help_links": [
    {
     "text": "MetaKernel Magics",
     "url": "https://metakernel.readthedocs.io/en/latest/source/README.html"
    }
   ],
   "mimetype": "text/x-scala",
   "name": "scala",
   "pygments_lexer": "scala",
   "version": "0.4.1"
  },
  "widgets": {
   "application/vnd.jupyter.widget-state+json": {
    "state": {},
    "version_major": 2,
    "version_minor": 0
   }
  }
 },
 "nbformat": 4,
 "nbformat_minor": 5
}
